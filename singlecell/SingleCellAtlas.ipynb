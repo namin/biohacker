{
 "cells": [
  {
   "cell_type": "markdown",
   "metadata": {},
   "source": [
    "# Single Cell Atlas\n",
    "We look at some data from https://www.covid19cellatlas.org/\n",
    "with the goal of comparing healthy and patient donors."
   ]
  },
  {
   "cell_type": "code",
   "execution_count": 1,
   "metadata": {},
   "outputs": [],
   "source": [
    "!ls data/atlas"
   ]
  },
  {
   "cell_type": "code",
   "execution_count": 2,
   "metadata": {},
   "outputs": [],
   "source": [
    "import h5py"
   ]
  },
  {
   "cell_type": "code",
   "execution_count": 3,
   "metadata": {},
   "outputs": [
    {
     "data": {
      "text/plain": [
       "['X', 'obs', 'obsm', 'uns', 'var', 'varm']"
      ]
     },
     "execution_count": 3,
     "metadata": {},
     "output_type": "execute_result"
    }
   ],
   "source": [
    "f = h5py.File('data/atlas/vieira19_Alveoli_and_parenchyma_anonymised.processed.h5ad', 'r')\n",
    "list(f.keys())"
   ]
  },
  {
   "cell_type": "code",
   "execution_count": 4,
   "metadata": {},
   "outputs": [],
   "source": [
    "from anndata import read_h5ad"
   ]
  },
  {
   "cell_type": "code",
   "execution_count": 5,
   "metadata": {},
   "outputs": [],
   "source": [
    "t = read_h5ad('data/atlas/vieira19_Alveoli_and_parenchyma_anonymised.processed.h5ad')"
   ]
  },
  {
   "cell_type": "code",
   "execution_count": 6,
   "metadata": {},
   "outputs": [
    {
     "data": {
      "text/plain": [
       "AnnData object with n_obs × n_vars = 12971 × 33694\n",
       "    obs: 'Sample', 'Donor', 'Source', 'Location', 'CellType', 'BroadCellType'\n",
       "    var: 'highly_variable', 'means', 'dispersions', 'dispersions_norm'\n",
       "    uns: 'leiden', 'neighbors_hm', 'pca'\n",
       "    obsm: 'X_umap_hm'\n",
       "    varm: 'PCs'"
      ]
     },
     "execution_count": 6,
     "metadata": {},
     "output_type": "execute_result"
    }
   ],
   "source": [
    "t"
   ]
  },
  {
   "cell_type": "code",
   "execution_count": 7,
   "metadata": {},
   "outputs": [
    {
     "data": {
      "text/plain": [
       "<12971x33694 sparse matrix of type '<class 'numpy.float32'>'\n",
       "\twith 29602881 stored elements in Compressed Sparse Column format>"
      ]
     },
     "execution_count": 7,
     "metadata": {},
     "output_type": "execute_result"
    }
   ],
   "source": [
    "t.X"
   ]
  },
  {
   "cell_type": "code",
   "execution_count": 8,
   "metadata": {},
   "outputs": [
    {
     "data": {
      "text/html": [
       "<div>\n",
       "<style scoped>\n",
       "    .dataframe tbody tr th:only-of-type {\n",
       "        vertical-align: middle;\n",
       "    }\n",
       "\n",
       "    .dataframe tbody tr th {\n",
       "        vertical-align: top;\n",
       "    }\n",
       "\n",
       "    .dataframe thead th {\n",
       "        text-align: right;\n",
       "    }\n",
       "</style>\n",
       "<table border=\"1\" class=\"dataframe\">\n",
       "  <thead>\n",
       "    <tr style=\"text-align: right;\">\n",
       "      <th></th>\n",
       "      <th>Sample</th>\n",
       "      <th>Donor</th>\n",
       "      <th>Source</th>\n",
       "      <th>Location</th>\n",
       "      <th>CellType</th>\n",
       "      <th>BroadCellType</th>\n",
       "    </tr>\n",
       "    <tr>\n",
       "      <th>index</th>\n",
       "      <th></th>\n",
       "      <th></th>\n",
       "      <th></th>\n",
       "      <th></th>\n",
       "      <th></th>\n",
       "      <th></th>\n",
       "    </tr>\n",
       "  </thead>\n",
       "  <tbody>\n",
       "    <tr>\n",
       "      <th>LungTranscriptome7239220_LungTranscriptome7239220ACGGAGATCAAGGTAA-0</th>\n",
       "      <td>LungTranscriptome7239220_LungTranscriptome7239220</td>\n",
       "      <td>298C</td>\n",
       "      <td>Transplant</td>\n",
       "      <td>Alveoli and parenchyma</td>\n",
       "      <td>Ciliated 1</td>\n",
       "      <td>Ciliated</td>\n",
       "    </tr>\n",
       "    <tr>\n",
       "      <th>LungTranscriptome7135919_GGCGTGTCATACCATG-0</th>\n",
       "      <td>LungTranscriptome7135919</td>\n",
       "      <td>290B</td>\n",
       "      <td>Transplant</td>\n",
       "      <td>Alveoli and parenchyma</td>\n",
       "      <td>Ciliated 1</td>\n",
       "      <td>Ciliated</td>\n",
       "    </tr>\n",
       "    <tr>\n",
       "      <th>LungTranscriptome7135920_GCGACCATCAGTTAGC-0</th>\n",
       "      <td>LungTranscriptome7135920</td>\n",
       "      <td>290B</td>\n",
       "      <td>Transplant</td>\n",
       "      <td>Alveoli and parenchyma</td>\n",
       "      <td>Basal 2</td>\n",
       "      <td>Basal</td>\n",
       "    </tr>\n",
       "    <tr>\n",
       "      <th>LungTranscriptome7239219_LungTranscriptome7239219CATTCGCAGCCGCCTA-0</th>\n",
       "      <td>LungTranscriptome7239219_LungTranscriptome7239219</td>\n",
       "      <td>298C</td>\n",
       "      <td>Transplant</td>\n",
       "      <td>Alveoli and parenchyma</td>\n",
       "      <td>Ciliated 1</td>\n",
       "      <td>Ciliated</td>\n",
       "    </tr>\n",
       "    <tr>\n",
       "      <th>LungTranscriptome7135920_TCAACGAGTATCTGCA-0</th>\n",
       "      <td>LungTranscriptome7135920</td>\n",
       "      <td>290B</td>\n",
       "      <td>Transplant</td>\n",
       "      <td>Alveoli and parenchyma</td>\n",
       "      <td>Ciliated 1</td>\n",
       "      <td>Ciliated</td>\n",
       "    </tr>\n",
       "    <tr>\n",
       "      <th>...</th>\n",
       "      <td>...</td>\n",
       "      <td>...</td>\n",
       "      <td>...</td>\n",
       "      <td>...</td>\n",
       "      <td>...</td>\n",
       "      <td>...</td>\n",
       "    </tr>\n",
       "    <tr>\n",
       "      <th>LungTranscriptome7239219_LungTranscriptome7239219GGGCATCCACCAACCG-1</th>\n",
       "      <td>LungTranscriptome7239219_LungTranscriptome7239219</td>\n",
       "      <td>298C</td>\n",
       "      <td>Transplant</td>\n",
       "      <td>Alveoli and parenchyma</td>\n",
       "      <td>Mast cells</td>\n",
       "      <td>Mast cells</td>\n",
       "    </tr>\n",
       "    <tr>\n",
       "      <th>LungTranscriptome7239219_LungTranscriptome7239219TGCTGCTAGCAATCTC-1</th>\n",
       "      <td>LungTranscriptome7239219_LungTranscriptome7239219</td>\n",
       "      <td>298C</td>\n",
       "      <td>Transplant</td>\n",
       "      <td>Alveoli and parenchyma</td>\n",
       "      <td>Mast cells</td>\n",
       "      <td>Mast cells</td>\n",
       "    </tr>\n",
       "    <tr>\n",
       "      <th>LungTranscriptome7239213_GACTGCGTCCTGCCAT-1</th>\n",
       "      <td>LungTranscriptome7239213</td>\n",
       "      <td>292B</td>\n",
       "      <td>Transplant</td>\n",
       "      <td>Alveoli and parenchyma</td>\n",
       "      <td>Mast cells</td>\n",
       "      <td>Mast cells</td>\n",
       "    </tr>\n",
       "    <tr>\n",
       "      <th>LungTranscriptome7239218_GCTGCGACATTCACTT-1</th>\n",
       "      <td>LungTranscriptome7239218</td>\n",
       "      <td>302C</td>\n",
       "      <td>Transplant</td>\n",
       "      <td>Alveoli and parenchyma</td>\n",
       "      <td>Mast cells</td>\n",
       "      <td>Mast cells</td>\n",
       "    </tr>\n",
       "    <tr>\n",
       "      <th>LungTranscriptome7239219_LungTranscriptome7239219TTAGGACGTGACGGTA-1</th>\n",
       "      <td>LungTranscriptome7239219_LungTranscriptome7239219</td>\n",
       "      <td>298C</td>\n",
       "      <td>Transplant</td>\n",
       "      <td>Alveoli and parenchyma</td>\n",
       "      <td>Mast cells</td>\n",
       "      <td>Mast cells</td>\n",
       "    </tr>\n",
       "  </tbody>\n",
       "</table>\n",
       "<p>12971 rows × 6 columns</p>\n",
       "</div>"
      ],
      "text/plain": [
       "                                                                                               Sample  \\\n",
       "index                                                                                                   \n",
       "LungTranscriptome7239220_LungTranscriptome72392...  LungTranscriptome7239220_LungTranscriptome7239220   \n",
       "LungTranscriptome7135919_GGCGTGTCATACCATG-0                                  LungTranscriptome7135919   \n",
       "LungTranscriptome7135920_GCGACCATCAGTTAGC-0                                  LungTranscriptome7135920   \n",
       "LungTranscriptome7239219_LungTranscriptome72392...  LungTranscriptome7239219_LungTranscriptome7239219   \n",
       "LungTranscriptome7135920_TCAACGAGTATCTGCA-0                                  LungTranscriptome7135920   \n",
       "...                                                                                               ...   \n",
       "LungTranscriptome7239219_LungTranscriptome72392...  LungTranscriptome7239219_LungTranscriptome7239219   \n",
       "LungTranscriptome7239219_LungTranscriptome72392...  LungTranscriptome7239219_LungTranscriptome7239219   \n",
       "LungTranscriptome7239213_GACTGCGTCCTGCCAT-1                                  LungTranscriptome7239213   \n",
       "LungTranscriptome7239218_GCTGCGACATTCACTT-1                                  LungTranscriptome7239218   \n",
       "LungTranscriptome7239219_LungTranscriptome72392...  LungTranscriptome7239219_LungTranscriptome7239219   \n",
       "\n",
       "                                                   Donor      Source  \\\n",
       "index                                                                  \n",
       "LungTranscriptome7239220_LungTranscriptome72392...  298C  Transplant   \n",
       "LungTranscriptome7135919_GGCGTGTCATACCATG-0         290B  Transplant   \n",
       "LungTranscriptome7135920_GCGACCATCAGTTAGC-0         290B  Transplant   \n",
       "LungTranscriptome7239219_LungTranscriptome72392...  298C  Transplant   \n",
       "LungTranscriptome7135920_TCAACGAGTATCTGCA-0         290B  Transplant   \n",
       "...                                                  ...         ...   \n",
       "LungTranscriptome7239219_LungTranscriptome72392...  298C  Transplant   \n",
       "LungTranscriptome7239219_LungTranscriptome72392...  298C  Transplant   \n",
       "LungTranscriptome7239213_GACTGCGTCCTGCCAT-1         292B  Transplant   \n",
       "LungTranscriptome7239218_GCTGCGACATTCACTT-1         302C  Transplant   \n",
       "LungTranscriptome7239219_LungTranscriptome72392...  298C  Transplant   \n",
       "\n",
       "                                                                  Location  \\\n",
       "index                                                                        \n",
       "LungTranscriptome7239220_LungTranscriptome72392...  Alveoli and parenchyma   \n",
       "LungTranscriptome7135919_GGCGTGTCATACCATG-0         Alveoli and parenchyma   \n",
       "LungTranscriptome7135920_GCGACCATCAGTTAGC-0         Alveoli and parenchyma   \n",
       "LungTranscriptome7239219_LungTranscriptome72392...  Alveoli and parenchyma   \n",
       "LungTranscriptome7135920_TCAACGAGTATCTGCA-0         Alveoli and parenchyma   \n",
       "...                                                                    ...   \n",
       "LungTranscriptome7239219_LungTranscriptome72392...  Alveoli and parenchyma   \n",
       "LungTranscriptome7239219_LungTranscriptome72392...  Alveoli and parenchyma   \n",
       "LungTranscriptome7239213_GACTGCGTCCTGCCAT-1         Alveoli and parenchyma   \n",
       "LungTranscriptome7239218_GCTGCGACATTCACTT-1         Alveoli and parenchyma   \n",
       "LungTranscriptome7239219_LungTranscriptome72392...  Alveoli and parenchyma   \n",
       "\n",
       "                                                      CellType BroadCellType  \n",
       "index                                                                         \n",
       "LungTranscriptome7239220_LungTranscriptome72392...  Ciliated 1      Ciliated  \n",
       "LungTranscriptome7135919_GGCGTGTCATACCATG-0         Ciliated 1      Ciliated  \n",
       "LungTranscriptome7135920_GCGACCATCAGTTAGC-0            Basal 2         Basal  \n",
       "LungTranscriptome7239219_LungTranscriptome72392...  Ciliated 1      Ciliated  \n",
       "LungTranscriptome7135920_TCAACGAGTATCTGCA-0         Ciliated 1      Ciliated  \n",
       "...                                                        ...           ...  \n",
       "LungTranscriptome7239219_LungTranscriptome72392...  Mast cells    Mast cells  \n",
       "LungTranscriptome7239219_LungTranscriptome72392...  Mast cells    Mast cells  \n",
       "LungTranscriptome7239213_GACTGCGTCCTGCCAT-1         Mast cells    Mast cells  \n",
       "LungTranscriptome7239218_GCTGCGACATTCACTT-1         Mast cells    Mast cells  \n",
       "LungTranscriptome7239219_LungTranscriptome72392...  Mast cells    Mast cells  \n",
       "\n",
       "[12971 rows x 6 columns]"
      ]
     },
     "execution_count": 8,
     "metadata": {},
     "output_type": "execute_result"
    }
   ],
   "source": [
    "t.obs"
   ]
  },
  {
   "cell_type": "code",
   "execution_count": 9,
   "metadata": {},
   "outputs": [
    {
     "data": {
      "text/html": [
       "<div>\n",
       "<style scoped>\n",
       "    .dataframe tbody tr th:only-of-type {\n",
       "        vertical-align: middle;\n",
       "    }\n",
       "\n",
       "    .dataframe tbody tr th {\n",
       "        vertical-align: top;\n",
       "    }\n",
       "\n",
       "    .dataframe thead th {\n",
       "        text-align: right;\n",
       "    }\n",
       "</style>\n",
       "<table border=\"1\" class=\"dataframe\">\n",
       "  <thead>\n",
       "    <tr style=\"text-align: right;\">\n",
       "      <th></th>\n",
       "      <th>highly_variable</th>\n",
       "      <th>means</th>\n",
       "      <th>dispersions</th>\n",
       "      <th>dispersions_norm</th>\n",
       "    </tr>\n",
       "    <tr>\n",
       "      <th>index</th>\n",
       "      <th></th>\n",
       "      <th></th>\n",
       "      <th></th>\n",
       "      <th></th>\n",
       "    </tr>\n",
       "  </thead>\n",
       "  <tbody>\n",
       "    <tr>\n",
       "      <th>RP11-34P13.3</th>\n",
       "      <td>False</td>\n",
       "      <td>1.000000e-12</td>\n",
       "      <td>NaN</td>\n",
       "      <td>NaN</td>\n",
       "    </tr>\n",
       "    <tr>\n",
       "      <th>FAM138A</th>\n",
       "      <td>False</td>\n",
       "      <td>1.000000e-12</td>\n",
       "      <td>NaN</td>\n",
       "      <td>NaN</td>\n",
       "    </tr>\n",
       "    <tr>\n",
       "      <th>OR4F5</th>\n",
       "      <td>False</td>\n",
       "      <td>1.000000e-12</td>\n",
       "      <td>NaN</td>\n",
       "      <td>NaN</td>\n",
       "    </tr>\n",
       "    <tr>\n",
       "      <th>RP11-34P13.7</th>\n",
       "      <td>False</td>\n",
       "      <td>4.336628e-03</td>\n",
       "      <td>1.440831</td>\n",
       "      <td>0.521987</td>\n",
       "    </tr>\n",
       "    <tr>\n",
       "      <th>RP11-34P13.8</th>\n",
       "      <td>False</td>\n",
       "      <td>1.000000e-12</td>\n",
       "      <td>NaN</td>\n",
       "      <td>NaN</td>\n",
       "    </tr>\n",
       "    <tr>\n",
       "      <th>...</th>\n",
       "      <td>...</td>\n",
       "      <td>...</td>\n",
       "      <td>...</td>\n",
       "      <td>...</td>\n",
       "    </tr>\n",
       "    <tr>\n",
       "      <th>AC233755.2</th>\n",
       "      <td>False</td>\n",
       "      <td>1.913299e-04</td>\n",
       "      <td>0.909056</td>\n",
       "      <td>-1.162769</td>\n",
       "    </tr>\n",
       "    <tr>\n",
       "      <th>AC233755.1</th>\n",
       "      <td>False</td>\n",
       "      <td>1.261966e-03</td>\n",
       "      <td>1.266680</td>\n",
       "      <td>-0.029754</td>\n",
       "    </tr>\n",
       "    <tr>\n",
       "      <th>AC240274.1</th>\n",
       "      <td>False</td>\n",
       "      <td>7.457980e-02</td>\n",
       "      <td>1.375593</td>\n",
       "      <td>0.315302</td>\n",
       "    </tr>\n",
       "    <tr>\n",
       "      <th>AC213203.1</th>\n",
       "      <td>False</td>\n",
       "      <td>1.000000e-12</td>\n",
       "      <td>NaN</td>\n",
       "      <td>NaN</td>\n",
       "    </tr>\n",
       "    <tr>\n",
       "      <th>FAM231B</th>\n",
       "      <td>False</td>\n",
       "      <td>1.000000e-12</td>\n",
       "      <td>NaN</td>\n",
       "      <td>NaN</td>\n",
       "    </tr>\n",
       "  </tbody>\n",
       "</table>\n",
       "<p>33694 rows × 4 columns</p>\n",
       "</div>"
      ],
      "text/plain": [
       "              highly_variable         means  dispersions  dispersions_norm\n",
       "index                                                                     \n",
       "RP11-34P13.3            False  1.000000e-12          NaN               NaN\n",
       "FAM138A                 False  1.000000e-12          NaN               NaN\n",
       "OR4F5                   False  1.000000e-12          NaN               NaN\n",
       "RP11-34P13.7            False  4.336628e-03     1.440831          0.521987\n",
       "RP11-34P13.8            False  1.000000e-12          NaN               NaN\n",
       "...                       ...           ...          ...               ...\n",
       "AC233755.2              False  1.913299e-04     0.909056         -1.162769\n",
       "AC233755.1              False  1.261966e-03     1.266680         -0.029754\n",
       "AC240274.1              False  7.457980e-02     1.375593          0.315302\n",
       "AC213203.1              False  1.000000e-12          NaN               NaN\n",
       "FAM231B                 False  1.000000e-12          NaN               NaN\n",
       "\n",
       "[33694 rows x 4 columns]"
      ]
     },
     "execution_count": 9,
     "metadata": {},
     "output_type": "execute_result"
    }
   ],
   "source": [
    "t.var"
   ]
  },
  {
   "cell_type": "code",
   "execution_count": 10,
   "metadata": {},
   "outputs": [
    {
     "data": {
      "text/html": [
       "<div>\n",
       "<style scoped>\n",
       "    .dataframe tbody tr th:only-of-type {\n",
       "        vertical-align: middle;\n",
       "    }\n",
       "\n",
       "    .dataframe tbody tr th {\n",
       "        vertical-align: top;\n",
       "    }\n",
       "\n",
       "    .dataframe thead th {\n",
       "        text-align: right;\n",
       "    }\n",
       "</style>\n",
       "<table border=\"1\" class=\"dataframe\">\n",
       "  <thead>\n",
       "    <tr style=\"text-align: right;\">\n",
       "      <th>index</th>\n",
       "      <th>RP11-34P13.3</th>\n",
       "      <th>FAM138A</th>\n",
       "      <th>OR4F5</th>\n",
       "      <th>RP11-34P13.7</th>\n",
       "      <th>RP11-34P13.8</th>\n",
       "      <th>RP11-34P13.14</th>\n",
       "      <th>RP11-34P13.9</th>\n",
       "      <th>FO538757.3</th>\n",
       "      <th>FO538757.2</th>\n",
       "      <th>AP006222.2</th>\n",
       "      <th>...</th>\n",
       "      <th>AC007325.2</th>\n",
       "      <th>BX072566.1</th>\n",
       "      <th>AL354822.1</th>\n",
       "      <th>AC023491.2</th>\n",
       "      <th>AC004556.1</th>\n",
       "      <th>AC233755.2</th>\n",
       "      <th>AC233755.1</th>\n",
       "      <th>AC240274.1</th>\n",
       "      <th>AC213203.1</th>\n",
       "      <th>FAM231B</th>\n",
       "    </tr>\n",
       "  </thead>\n",
       "  <tbody>\n",
       "    <tr>\n",
       "      <th>highly_variable</th>\n",
       "      <td>False</td>\n",
       "      <td>False</td>\n",
       "      <td>False</td>\n",
       "      <td>False</td>\n",
       "      <td>False</td>\n",
       "      <td>False</td>\n",
       "      <td>False</td>\n",
       "      <td>False</td>\n",
       "      <td>False</td>\n",
       "      <td>False</td>\n",
       "      <td>...</td>\n",
       "      <td>False</td>\n",
       "      <td>False</td>\n",
       "      <td>False</td>\n",
       "      <td>False</td>\n",
       "      <td>True</td>\n",
       "      <td>False</td>\n",
       "      <td>False</td>\n",
       "      <td>False</td>\n",
       "      <td>False</td>\n",
       "      <td>False</td>\n",
       "    </tr>\n",
       "    <tr>\n",
       "      <th>means</th>\n",
       "      <td>1e-12</td>\n",
       "      <td>1e-12</td>\n",
       "      <td>1e-12</td>\n",
       "      <td>0.00433663</td>\n",
       "      <td>1e-12</td>\n",
       "      <td>1e-12</td>\n",
       "      <td>1e-12</td>\n",
       "      <td>0.000505906</td>\n",
       "      <td>0.473574</td>\n",
       "      <td>0.343604</td>\n",
       "      <td>...</td>\n",
       "      <td>0.03061</td>\n",
       "      <td>1e-12</td>\n",
       "      <td>0.0107444</td>\n",
       "      <td>1e-12</td>\n",
       "      <td>0.0394213</td>\n",
       "      <td>0.00019133</td>\n",
       "      <td>0.00126197</td>\n",
       "      <td>0.0745798</td>\n",
       "      <td>1e-12</td>\n",
       "      <td>1e-12</td>\n",
       "    </tr>\n",
       "    <tr>\n",
       "      <th>dispersions</th>\n",
       "      <td>NaN</td>\n",
       "      <td>NaN</td>\n",
       "      <td>NaN</td>\n",
       "      <td>1.44083</td>\n",
       "      <td>NaN</td>\n",
       "      <td>NaN</td>\n",
       "      <td>NaN</td>\n",
       "      <td>1.35848</td>\n",
       "      <td>1.29746</td>\n",
       "      <td>1.14623</td>\n",
       "      <td>...</td>\n",
       "      <td>1.09921</td>\n",
       "      <td>NaN</td>\n",
       "      <td>1.23467</td>\n",
       "      <td>NaN</td>\n",
       "      <td>1.46588</td>\n",
       "      <td>0.909056</td>\n",
       "      <td>1.26668</td>\n",
       "      <td>1.37559</td>\n",
       "      <td>NaN</td>\n",
       "      <td>NaN</td>\n",
       "    </tr>\n",
       "    <tr>\n",
       "      <th>dispersions_norm</th>\n",
       "      <td>NaN</td>\n",
       "      <td>NaN</td>\n",
       "      <td>NaN</td>\n",
       "      <td>0.521987</td>\n",
       "      <td>NaN</td>\n",
       "      <td>NaN</td>\n",
       "      <td>NaN</td>\n",
       "      <td>0.261073</td>\n",
       "      <td>0.353819</td>\n",
       "      <td>-0.707995</td>\n",
       "      <td>...</td>\n",
       "      <td>-0.560324</td>\n",
       "      <td>NaN</td>\n",
       "      <td>-0.13116</td>\n",
       "      <td>NaN</td>\n",
       "      <td>0.601342</td>\n",
       "      <td>-1.16277</td>\n",
       "      <td>-0.029754</td>\n",
       "      <td>0.315302</td>\n",
       "      <td>NaN</td>\n",
       "      <td>NaN</td>\n",
       "    </tr>\n",
       "  </tbody>\n",
       "</table>\n",
       "<p>4 rows × 33694 columns</p>\n",
       "</div>"
      ],
      "text/plain": [
       "index            RP11-34P13.3 FAM138A  OR4F5 RP11-34P13.7 RP11-34P13.8  \\\n",
       "highly_variable         False   False  False        False        False   \n",
       "means                   1e-12   1e-12  1e-12   0.00433663        1e-12   \n",
       "dispersions               NaN     NaN    NaN      1.44083          NaN   \n",
       "dispersions_norm          NaN     NaN    NaN     0.521987          NaN   \n",
       "\n",
       "index            RP11-34P13.14 RP11-34P13.9   FO538757.3 FO538757.2  \\\n",
       "highly_variable          False        False        False      False   \n",
       "means                    1e-12        1e-12  0.000505906   0.473574   \n",
       "dispersions                NaN          NaN      1.35848    1.29746   \n",
       "dispersions_norm           NaN          NaN     0.261073   0.353819   \n",
       "\n",
       "index            AP006222.2  ... AC007325.2 BX072566.1 AL354822.1 AC023491.2  \\\n",
       "highly_variable       False  ...      False      False      False      False   \n",
       "means              0.343604  ...    0.03061      1e-12  0.0107444      1e-12   \n",
       "dispersions         1.14623  ...    1.09921        NaN    1.23467        NaN   \n",
       "dispersions_norm  -0.707995  ...  -0.560324        NaN   -0.13116        NaN   \n",
       "\n",
       "index            AC004556.1  AC233755.2  AC233755.1 AC240274.1 AC213203.1  \\\n",
       "highly_variable        True       False       False      False      False   \n",
       "means             0.0394213  0.00019133  0.00126197  0.0745798      1e-12   \n",
       "dispersions         1.46588    0.909056     1.26668    1.37559        NaN   \n",
       "dispersions_norm   0.601342    -1.16277   -0.029754   0.315302        NaN   \n",
       "\n",
       "index            FAM231B  \n",
       "highly_variable    False  \n",
       "means              1e-12  \n",
       "dispersions          NaN  \n",
       "dispersions_norm     NaN  \n",
       "\n",
       "[4 rows x 33694 columns]"
      ]
     },
     "execution_count": 10,
     "metadata": {},
     "output_type": "execute_result"
    }
   ],
   "source": [
    "t.var.T"
   ]
  },
  {
   "cell_type": "code",
   "execution_count": 11,
   "metadata": {},
   "outputs": [
    {
     "data": {
      "text/plain": [
       "highly_variable       False\n",
       "means               0.35141\n",
       "dispersions         1.17911\n",
       "dispersions_norm   -0.50413\n",
       "Name: TMPRSS2, dtype: object"
      ]
     },
     "execution_count": 11,
     "metadata": {},
     "output_type": "execute_result"
    }
   ],
   "source": [
    "t.var.T['TMPRSS2']"
   ]
  },
  {
   "cell_type": "code",
   "execution_count": 12,
   "metadata": {},
   "outputs": [
    {
     "data": {
      "text/plain": [
       "33499"
      ]
     },
     "execution_count": 12,
     "metadata": {},
     "output_type": "execute_result"
    }
   ],
   "source": [
    "t.var.T.columns.get_loc('TMPRSS2')"
   ]
  },
  {
   "cell_type": "code",
   "execution_count": 13,
   "metadata": {},
   "outputs": [
    {
     "data": {
      "text/plain": [
       "<12971x33694 sparse matrix of type '<class 'numpy.float32'>'\n",
       "\twith 29602881 stored elements in Compressed Sparse Column format>"
      ]
     },
     "execution_count": 13,
     "metadata": {},
     "output_type": "execute_result"
    }
   ],
   "source": [
    "t.X"
   ]
  },
  {
   "cell_type": "code",
   "execution_count": 14,
   "metadata": {},
   "outputs": [],
   "source": [
    "gene_expression = t.X[:,33499]"
   ]
  },
  {
   "cell_type": "code",
   "execution_count": 15,
   "metadata": {},
   "outputs": [
    {
     "data": {
      "text/plain": [
       "<12971x1 sparse matrix of type '<class 'numpy.float32'>'\n",
       "\twith 1794 stored elements in Compressed Sparse Column format>"
      ]
     },
     "execution_count": 15,
     "metadata": {},
     "output_type": "execute_result"
    }
   ],
   "source": [
    "gene_expression"
   ]
  },
  {
   "cell_type": "code",
   "execution_count": 16,
   "metadata": {},
   "outputs": [
    {
     "data": {
      "text/plain": [
       "(array([    3,    17,    18, ..., 12913, 12927, 12945], dtype=int32),\n",
       " array([0, 0, 0, ..., 0, 0, 0], dtype=int32))"
      ]
     },
     "execution_count": 16,
     "metadata": {},
     "output_type": "execute_result"
    }
   ],
   "source": [
    "gene_expression.nonzero()"
   ]
  },
  {
   "cell_type": "code",
   "execution_count": 17,
   "metadata": {},
   "outputs": [],
   "source": [
    "a, b = gene_expression.nonzero()"
   ]
  },
  {
   "cell_type": "code",
   "execution_count": 18,
   "metadata": {},
   "outputs": [],
   "source": [
    "import numpy as np\n",
    "import pandas as pd"
   ]
  },
  {
   "cell_type": "code",
   "execution_count": 19,
   "metadata": {},
   "outputs": [
    {
     "data": {
      "text/html": [
       "<div>\n",
       "<style scoped>\n",
       "    .dataframe tbody tr th:only-of-type {\n",
       "        vertical-align: middle;\n",
       "    }\n",
       "\n",
       "    .dataframe tbody tr th {\n",
       "        vertical-align: top;\n",
       "    }\n",
       "\n",
       "    .dataframe thead th {\n",
       "        text-align: right;\n",
       "    }\n",
       "</style>\n",
       "<table border=\"1\" class=\"dataframe\">\n",
       "  <thead>\n",
       "    <tr style=\"text-align: right;\">\n",
       "      <th></th>\n",
       "      <th>0</th>\n",
       "    </tr>\n",
       "  </thead>\n",
       "  <tbody>\n",
       "    <tr>\n",
       "      <th>0</th>\n",
       "      <td>(0, 0)\\t1.534591</td>\n",
       "    </tr>\n",
       "  </tbody>\n",
       "</table>\n",
       "</div>"
      ],
      "text/plain": [
       "                    0\n",
       "0    (0, 0)\\t1.534591"
      ]
     },
     "execution_count": 19,
     "metadata": {},
     "output_type": "execute_result"
    }
   ],
   "source": [
    "pd.DataFrame(gene_expression[3])"
   ]
  },
  {
   "cell_type": "code",
   "execution_count": 20,
   "metadata": {},
   "outputs": [
    {
     "data": {
      "text/html": [
       "<div>\n",
       "<style scoped>\n",
       "    .dataframe tbody tr th:only-of-type {\n",
       "        vertical-align: middle;\n",
       "    }\n",
       "\n",
       "    .dataframe tbody tr th {\n",
       "        vertical-align: top;\n",
       "    }\n",
       "\n",
       "    .dataframe thead th {\n",
       "        text-align: right;\n",
       "    }\n",
       "</style>\n",
       "<table border=\"1\" class=\"dataframe\">\n",
       "  <thead>\n",
       "    <tr style=\"text-align: right;\">\n",
       "      <th></th>\n",
       "      <th>0</th>\n",
       "    </tr>\n",
       "  </thead>\n",
       "  <tbody>\n",
       "    <tr>\n",
       "      <th>0</th>\n",
       "      <td>(0, 0)\\t3.069182</td>\n",
       "    </tr>\n",
       "  </tbody>\n",
       "</table>\n",
       "</div>"
      ],
      "text/plain": [
       "                    0\n",
       "0    (0, 0)\\t3.069182"
      ]
     },
     "execution_count": 20,
     "metadata": {},
     "output_type": "execute_result"
    }
   ],
   "source": [
    "pd.DataFrame(gene_expression[3]*2)"
   ]
  },
  {
   "cell_type": "code",
   "execution_count": 21,
   "metadata": {},
   "outputs": [
    {
     "data": {
      "text/plain": [
       "1794"
      ]
     },
     "execution_count": 21,
     "metadata": {},
     "output_type": "execute_result"
    }
   ],
   "source": [
    "len(a)"
   ]
  },
  {
   "cell_type": "code",
   "execution_count": 22,
   "metadata": {},
   "outputs": [],
   "source": [
    "u = read_h5ad('data/atlas/ucl-sanger_covid_airway.submit_to_czi.cellxgene.20200911.h5ad')"
   ]
  },
  {
   "cell_type": "code",
   "execution_count": 23,
   "metadata": {},
   "outputs": [
    {
     "data": {
      "text/plain": [
       "<10550x33421 sparse matrix of type '<class 'numpy.float32'>'\n",
       "\twith 26021320 stored elements in Compressed Sparse Row format>"
      ]
     },
     "execution_count": 23,
     "metadata": {},
     "output_type": "execute_result"
    }
   ],
   "source": [
    "u.X"
   ]
  },
  {
   "cell_type": "code",
   "execution_count": 24,
   "metadata": {},
   "outputs": [
    {
     "data": {
      "text/plain": [
       "33241"
      ]
     },
     "execution_count": 24,
     "metadata": {},
     "output_type": "execute_result"
    }
   ],
   "source": [
    "u.var.T.columns.get_loc('TMPRSS2')"
   ]
  },
  {
   "cell_type": "code",
   "execution_count": 25,
   "metadata": {},
   "outputs": [],
   "source": [
    "u_gene_expression = t.X[:,33241]"
   ]
  },
  {
   "cell_type": "code",
   "execution_count": 26,
   "metadata": {},
   "outputs": [],
   "source": [
    "u_a, u_b = u_gene_expression.nonzero()"
   ]
  },
  {
   "cell_type": "code",
   "execution_count": 27,
   "metadata": {},
   "outputs": [
    {
     "data": {
      "text/plain": [
       "0"
      ]
     },
     "execution_count": 27,
     "metadata": {},
     "output_type": "execute_result"
    }
   ],
   "source": [
    "len(u_a)"
   ]
  },
  {
   "cell_type": "code",
   "execution_count": null,
   "metadata": {},
   "outputs": [],
   "source": []
  }
 ],
 "metadata": {
  "kernelspec": {
   "display_name": "Python 3",
   "language": "python",
   "name": "python3"
  },
  "language_info": {
   "codemirror_mode": {
    "name": "ipython",
    "version": 3
   },
   "file_extension": ".py",
   "mimetype": "text/x-python",
   "name": "python",
   "nbconvert_exporter": "python",
   "pygments_lexer": "ipython3",
   "version": "3.7.7"
  }
 },
 "nbformat": 4,
 "nbformat_minor": 4
}
