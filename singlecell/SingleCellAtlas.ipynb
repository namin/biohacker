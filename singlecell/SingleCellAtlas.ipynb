{
 "cells": [
  {
   "cell_type": "markdown",
   "metadata": {},
   "source": [
    "# Single Cell Atlas\n",
    "We look at some data from https://www.covid19cellatlas.org/\n",
    "with the goal of comparing healthy and patient donors."
   ]
  },
  {
   "cell_type": "code",
   "execution_count": 1,
   "metadata": {},
   "outputs": [
    {
     "name": "stdout",
     "output_type": "stream",
     "text": [
      "20200917_MGH_Broad_Villani_to_CZI.h5ad\n",
      "Single_cell_atlas_of_peripheral_immune_response_to_SARS_CoV_2_infection.h5ad\n",
      "ucl-sanger_covid_airway.submit_to_czi.cellxgene.20200911.h5ad\n",
      "vieira19_Alveoli_and_parenchyma_anonymised.processed.h5ad\n"
     ]
    }
   ],
   "source": [
    "!ls data/atlas"
   ]
  },
  {
   "cell_type": "code",
   "execution_count": 2,
   "metadata": {},
   "outputs": [],
   "source": [
    "from anndata import read_h5ad\n",
    "import numpy as np\n",
    "import pandas as pd"
   ]
  },
  {
   "cell_type": "code",
   "execution_count": 3,
   "metadata": {},
   "outputs": [],
   "source": [
    "def gene_expression_count(t, gene_name):\n",
    "    i = t.var.T.columns.get_loc(gene_name)\n",
    "    e = t.X[:,i]\n",
    "    return len(e.nonzero()[0])"
   ]
  },
  {
   "cell_type": "code",
   "execution_count": 4,
   "metadata": {},
   "outputs": [],
   "source": [
    "t = read_h5ad('data/atlas/vieira19_Alveoli_and_parenchyma_anonymised.processed.h5ad')\n",
    "u = read_h5ad('data/atlas/ucl-sanger_covid_airway.submit_to_czi.cellxgene.20200911.h5ad')\n",
    "u2 = read_h5ad('data/atlas/20200917_MGH_Broad_Villani_to_CZI.h5ad')\n",
    "u3 = read_h5ad('data/atlas/Single_cell_atlas_of_peripheral_immune_response_to_SARS_CoV_2_infection.h5ad')"
   ]
  },
  {
   "cell_type": "code",
   "execution_count": 5,
   "metadata": {},
   "outputs": [
    {
     "data": {
      "text/plain": [
       "1794"
      ]
     },
     "execution_count": 5,
     "metadata": {},
     "output_type": "execute_result"
    }
   ],
   "source": [
    "gene_expression_count(t, 'TMPRSS2')"
   ]
  },
  {
   "cell_type": "code",
   "execution_count": 6,
   "metadata": {},
   "outputs": [
    {
     "data": {
      "text/plain": [
       "2360"
      ]
     },
     "execution_count": 6,
     "metadata": {},
     "output_type": "execute_result"
    }
   ],
   "source": [
    "gene_expression_count(u, 'TMPRSS2')"
   ]
  },
  {
   "cell_type": "code",
   "execution_count": 7,
   "metadata": {},
   "outputs": [
    {
     "data": {
      "text/plain": [
       "83"
      ]
     },
     "execution_count": 7,
     "metadata": {},
     "output_type": "execute_result"
    }
   ],
   "source": [
    "gene_expression_count(u3, 'TMPRSS2')"
   ]
  },
  {
   "cell_type": "markdown",
   "metadata": {},
   "source": [
    "# Scratchpad"
   ]
  },
  {
   "cell_type": "code",
   "execution_count": 8,
   "metadata": {},
   "outputs": [
    {
     "data": {
      "text/plain": [
       "AnnData object with n_obs × n_vars = 12971 × 33694\n",
       "    obs: 'Sample', 'Donor', 'Source', 'Location', 'CellType', 'BroadCellType'\n",
       "    var: 'highly_variable', 'means', 'dispersions', 'dispersions_norm'\n",
       "    uns: 'leiden', 'neighbors_hm', 'pca'\n",
       "    obsm: 'X_umap_hm'\n",
       "    varm: 'PCs'"
      ]
     },
     "execution_count": 8,
     "metadata": {},
     "output_type": "execute_result"
    }
   ],
   "source": [
    "t"
   ]
  },
  {
   "cell_type": "code",
   "execution_count": 9,
   "metadata": {},
   "outputs": [
    {
     "data": {
      "text/plain": [
       "<12971x33694 sparse matrix of type '<class 'numpy.float32'>'\n",
       "\twith 29602881 stored elements in Compressed Sparse Column format>"
      ]
     },
     "execution_count": 9,
     "metadata": {},
     "output_type": "execute_result"
    }
   ],
   "source": [
    "t.X"
   ]
  },
  {
   "cell_type": "code",
   "execution_count": 10,
   "metadata": {},
   "outputs": [
    {
     "data": {
      "text/html": [
       "<div>\n",
       "<style scoped>\n",
       "    .dataframe tbody tr th:only-of-type {\n",
       "        vertical-align: middle;\n",
       "    }\n",
       "\n",
       "    .dataframe tbody tr th {\n",
       "        vertical-align: top;\n",
       "    }\n",
       "\n",
       "    .dataframe thead th {\n",
       "        text-align: right;\n",
       "    }\n",
       "</style>\n",
       "<table border=\"1\" class=\"dataframe\">\n",
       "  <thead>\n",
       "    <tr style=\"text-align: right;\">\n",
       "      <th></th>\n",
       "      <th>Sample</th>\n",
       "      <th>Donor</th>\n",
       "      <th>Source</th>\n",
       "      <th>Location</th>\n",
       "      <th>CellType</th>\n",
       "      <th>BroadCellType</th>\n",
       "    </tr>\n",
       "    <tr>\n",
       "      <th>index</th>\n",
       "      <th></th>\n",
       "      <th></th>\n",
       "      <th></th>\n",
       "      <th></th>\n",
       "      <th></th>\n",
       "      <th></th>\n",
       "    </tr>\n",
       "  </thead>\n",
       "  <tbody>\n",
       "    <tr>\n",
       "      <th>LungTranscriptome7239220_LungTranscriptome7239220ACGGAGATCAAGGTAA-0</th>\n",
       "      <td>LungTranscriptome7239220_LungTranscriptome7239220</td>\n",
       "      <td>298C</td>\n",
       "      <td>Transplant</td>\n",
       "      <td>Alveoli and parenchyma</td>\n",
       "      <td>Ciliated 1</td>\n",
       "      <td>Ciliated</td>\n",
       "    </tr>\n",
       "    <tr>\n",
       "      <th>LungTranscriptome7135919_GGCGTGTCATACCATG-0</th>\n",
       "      <td>LungTranscriptome7135919</td>\n",
       "      <td>290B</td>\n",
       "      <td>Transplant</td>\n",
       "      <td>Alveoli and parenchyma</td>\n",
       "      <td>Ciliated 1</td>\n",
       "      <td>Ciliated</td>\n",
       "    </tr>\n",
       "    <tr>\n",
       "      <th>LungTranscriptome7135920_GCGACCATCAGTTAGC-0</th>\n",
       "      <td>LungTranscriptome7135920</td>\n",
       "      <td>290B</td>\n",
       "      <td>Transplant</td>\n",
       "      <td>Alveoli and parenchyma</td>\n",
       "      <td>Basal 2</td>\n",
       "      <td>Basal</td>\n",
       "    </tr>\n",
       "    <tr>\n",
       "      <th>LungTranscriptome7239219_LungTranscriptome7239219CATTCGCAGCCGCCTA-0</th>\n",
       "      <td>LungTranscriptome7239219_LungTranscriptome7239219</td>\n",
       "      <td>298C</td>\n",
       "      <td>Transplant</td>\n",
       "      <td>Alveoli and parenchyma</td>\n",
       "      <td>Ciliated 1</td>\n",
       "      <td>Ciliated</td>\n",
       "    </tr>\n",
       "    <tr>\n",
       "      <th>LungTranscriptome7135920_TCAACGAGTATCTGCA-0</th>\n",
       "      <td>LungTranscriptome7135920</td>\n",
       "      <td>290B</td>\n",
       "      <td>Transplant</td>\n",
       "      <td>Alveoli and parenchyma</td>\n",
       "      <td>Ciliated 1</td>\n",
       "      <td>Ciliated</td>\n",
       "    </tr>\n",
       "    <tr>\n",
       "      <th>...</th>\n",
       "      <td>...</td>\n",
       "      <td>...</td>\n",
       "      <td>...</td>\n",
       "      <td>...</td>\n",
       "      <td>...</td>\n",
       "      <td>...</td>\n",
       "    </tr>\n",
       "    <tr>\n",
       "      <th>LungTranscriptome7239219_LungTranscriptome7239219GGGCATCCACCAACCG-1</th>\n",
       "      <td>LungTranscriptome7239219_LungTranscriptome7239219</td>\n",
       "      <td>298C</td>\n",
       "      <td>Transplant</td>\n",
       "      <td>Alveoli and parenchyma</td>\n",
       "      <td>Mast cells</td>\n",
       "      <td>Mast cells</td>\n",
       "    </tr>\n",
       "    <tr>\n",
       "      <th>LungTranscriptome7239219_LungTranscriptome7239219TGCTGCTAGCAATCTC-1</th>\n",
       "      <td>LungTranscriptome7239219_LungTranscriptome7239219</td>\n",
       "      <td>298C</td>\n",
       "      <td>Transplant</td>\n",
       "      <td>Alveoli and parenchyma</td>\n",
       "      <td>Mast cells</td>\n",
       "      <td>Mast cells</td>\n",
       "    </tr>\n",
       "    <tr>\n",
       "      <th>LungTranscriptome7239213_GACTGCGTCCTGCCAT-1</th>\n",
       "      <td>LungTranscriptome7239213</td>\n",
       "      <td>292B</td>\n",
       "      <td>Transplant</td>\n",
       "      <td>Alveoli and parenchyma</td>\n",
       "      <td>Mast cells</td>\n",
       "      <td>Mast cells</td>\n",
       "    </tr>\n",
       "    <tr>\n",
       "      <th>LungTranscriptome7239218_GCTGCGACATTCACTT-1</th>\n",
       "      <td>LungTranscriptome7239218</td>\n",
       "      <td>302C</td>\n",
       "      <td>Transplant</td>\n",
       "      <td>Alveoli and parenchyma</td>\n",
       "      <td>Mast cells</td>\n",
       "      <td>Mast cells</td>\n",
       "    </tr>\n",
       "    <tr>\n",
       "      <th>LungTranscriptome7239219_LungTranscriptome7239219TTAGGACGTGACGGTA-1</th>\n",
       "      <td>LungTranscriptome7239219_LungTranscriptome7239219</td>\n",
       "      <td>298C</td>\n",
       "      <td>Transplant</td>\n",
       "      <td>Alveoli and parenchyma</td>\n",
       "      <td>Mast cells</td>\n",
       "      <td>Mast cells</td>\n",
       "    </tr>\n",
       "  </tbody>\n",
       "</table>\n",
       "<p>12971 rows × 6 columns</p>\n",
       "</div>"
      ],
      "text/plain": [
       "                                                                                               Sample  \\\n",
       "index                                                                                                   \n",
       "LungTranscriptome7239220_LungTranscriptome72392...  LungTranscriptome7239220_LungTranscriptome7239220   \n",
       "LungTranscriptome7135919_GGCGTGTCATACCATG-0                                  LungTranscriptome7135919   \n",
       "LungTranscriptome7135920_GCGACCATCAGTTAGC-0                                  LungTranscriptome7135920   \n",
       "LungTranscriptome7239219_LungTranscriptome72392...  LungTranscriptome7239219_LungTranscriptome7239219   \n",
       "LungTranscriptome7135920_TCAACGAGTATCTGCA-0                                  LungTranscriptome7135920   \n",
       "...                                                                                               ...   \n",
       "LungTranscriptome7239219_LungTranscriptome72392...  LungTranscriptome7239219_LungTranscriptome7239219   \n",
       "LungTranscriptome7239219_LungTranscriptome72392...  LungTranscriptome7239219_LungTranscriptome7239219   \n",
       "LungTranscriptome7239213_GACTGCGTCCTGCCAT-1                                  LungTranscriptome7239213   \n",
       "LungTranscriptome7239218_GCTGCGACATTCACTT-1                                  LungTranscriptome7239218   \n",
       "LungTranscriptome7239219_LungTranscriptome72392...  LungTranscriptome7239219_LungTranscriptome7239219   \n",
       "\n",
       "                                                   Donor      Source  \\\n",
       "index                                                                  \n",
       "LungTranscriptome7239220_LungTranscriptome72392...  298C  Transplant   \n",
       "LungTranscriptome7135919_GGCGTGTCATACCATG-0         290B  Transplant   \n",
       "LungTranscriptome7135920_GCGACCATCAGTTAGC-0         290B  Transplant   \n",
       "LungTranscriptome7239219_LungTranscriptome72392...  298C  Transplant   \n",
       "LungTranscriptome7135920_TCAACGAGTATCTGCA-0         290B  Transplant   \n",
       "...                                                  ...         ...   \n",
       "LungTranscriptome7239219_LungTranscriptome72392...  298C  Transplant   \n",
       "LungTranscriptome7239219_LungTranscriptome72392...  298C  Transplant   \n",
       "LungTranscriptome7239213_GACTGCGTCCTGCCAT-1         292B  Transplant   \n",
       "LungTranscriptome7239218_GCTGCGACATTCACTT-1         302C  Transplant   \n",
       "LungTranscriptome7239219_LungTranscriptome72392...  298C  Transplant   \n",
       "\n",
       "                                                                  Location  \\\n",
       "index                                                                        \n",
       "LungTranscriptome7239220_LungTranscriptome72392...  Alveoli and parenchyma   \n",
       "LungTranscriptome7135919_GGCGTGTCATACCATG-0         Alveoli and parenchyma   \n",
       "LungTranscriptome7135920_GCGACCATCAGTTAGC-0         Alveoli and parenchyma   \n",
       "LungTranscriptome7239219_LungTranscriptome72392...  Alveoli and parenchyma   \n",
       "LungTranscriptome7135920_TCAACGAGTATCTGCA-0         Alveoli and parenchyma   \n",
       "...                                                                    ...   \n",
       "LungTranscriptome7239219_LungTranscriptome72392...  Alveoli and parenchyma   \n",
       "LungTranscriptome7239219_LungTranscriptome72392...  Alveoli and parenchyma   \n",
       "LungTranscriptome7239213_GACTGCGTCCTGCCAT-1         Alveoli and parenchyma   \n",
       "LungTranscriptome7239218_GCTGCGACATTCACTT-1         Alveoli and parenchyma   \n",
       "LungTranscriptome7239219_LungTranscriptome72392...  Alveoli and parenchyma   \n",
       "\n",
       "                                                      CellType BroadCellType  \n",
       "index                                                                         \n",
       "LungTranscriptome7239220_LungTranscriptome72392...  Ciliated 1      Ciliated  \n",
       "LungTranscriptome7135919_GGCGTGTCATACCATG-0         Ciliated 1      Ciliated  \n",
       "LungTranscriptome7135920_GCGACCATCAGTTAGC-0            Basal 2         Basal  \n",
       "LungTranscriptome7239219_LungTranscriptome72392...  Ciliated 1      Ciliated  \n",
       "LungTranscriptome7135920_TCAACGAGTATCTGCA-0         Ciliated 1      Ciliated  \n",
       "...                                                        ...           ...  \n",
       "LungTranscriptome7239219_LungTranscriptome72392...  Mast cells    Mast cells  \n",
       "LungTranscriptome7239219_LungTranscriptome72392...  Mast cells    Mast cells  \n",
       "LungTranscriptome7239213_GACTGCGTCCTGCCAT-1         Mast cells    Mast cells  \n",
       "LungTranscriptome7239218_GCTGCGACATTCACTT-1         Mast cells    Mast cells  \n",
       "LungTranscriptome7239219_LungTranscriptome72392...  Mast cells    Mast cells  \n",
       "\n",
       "[12971 rows x 6 columns]"
      ]
     },
     "execution_count": 10,
     "metadata": {},
     "output_type": "execute_result"
    }
   ],
   "source": [
    "t.obs"
   ]
  },
  {
   "cell_type": "code",
   "execution_count": 11,
   "metadata": {},
   "outputs": [
    {
     "data": {
      "text/html": [
       "<div>\n",
       "<style scoped>\n",
       "    .dataframe tbody tr th:only-of-type {\n",
       "        vertical-align: middle;\n",
       "    }\n",
       "\n",
       "    .dataframe tbody tr th {\n",
       "        vertical-align: top;\n",
       "    }\n",
       "\n",
       "    .dataframe thead th {\n",
       "        text-align: right;\n",
       "    }\n",
       "</style>\n",
       "<table border=\"1\" class=\"dataframe\">\n",
       "  <thead>\n",
       "    <tr style=\"text-align: right;\">\n",
       "      <th></th>\n",
       "      <th>highly_variable</th>\n",
       "      <th>means</th>\n",
       "      <th>dispersions</th>\n",
       "      <th>dispersions_norm</th>\n",
       "    </tr>\n",
       "    <tr>\n",
       "      <th>index</th>\n",
       "      <th></th>\n",
       "      <th></th>\n",
       "      <th></th>\n",
       "      <th></th>\n",
       "    </tr>\n",
       "  </thead>\n",
       "  <tbody>\n",
       "    <tr>\n",
       "      <th>RP11-34P13.3</th>\n",
       "      <td>False</td>\n",
       "      <td>1.000000e-12</td>\n",
       "      <td>NaN</td>\n",
       "      <td>NaN</td>\n",
       "    </tr>\n",
       "    <tr>\n",
       "      <th>FAM138A</th>\n",
       "      <td>False</td>\n",
       "      <td>1.000000e-12</td>\n",
       "      <td>NaN</td>\n",
       "      <td>NaN</td>\n",
       "    </tr>\n",
       "    <tr>\n",
       "      <th>OR4F5</th>\n",
       "      <td>False</td>\n",
       "      <td>1.000000e-12</td>\n",
       "      <td>NaN</td>\n",
       "      <td>NaN</td>\n",
       "    </tr>\n",
       "    <tr>\n",
       "      <th>RP11-34P13.7</th>\n",
       "      <td>False</td>\n",
       "      <td>4.336628e-03</td>\n",
       "      <td>1.440831</td>\n",
       "      <td>0.521987</td>\n",
       "    </tr>\n",
       "    <tr>\n",
       "      <th>RP11-34P13.8</th>\n",
       "      <td>False</td>\n",
       "      <td>1.000000e-12</td>\n",
       "      <td>NaN</td>\n",
       "      <td>NaN</td>\n",
       "    </tr>\n",
       "    <tr>\n",
       "      <th>...</th>\n",
       "      <td>...</td>\n",
       "      <td>...</td>\n",
       "      <td>...</td>\n",
       "      <td>...</td>\n",
       "    </tr>\n",
       "    <tr>\n",
       "      <th>AC233755.2</th>\n",
       "      <td>False</td>\n",
       "      <td>1.913299e-04</td>\n",
       "      <td>0.909056</td>\n",
       "      <td>-1.162769</td>\n",
       "    </tr>\n",
       "    <tr>\n",
       "      <th>AC233755.1</th>\n",
       "      <td>False</td>\n",
       "      <td>1.261966e-03</td>\n",
       "      <td>1.266680</td>\n",
       "      <td>-0.029754</td>\n",
       "    </tr>\n",
       "    <tr>\n",
       "      <th>AC240274.1</th>\n",
       "      <td>False</td>\n",
       "      <td>7.457980e-02</td>\n",
       "      <td>1.375593</td>\n",
       "      <td>0.315302</td>\n",
       "    </tr>\n",
       "    <tr>\n",
       "      <th>AC213203.1</th>\n",
       "      <td>False</td>\n",
       "      <td>1.000000e-12</td>\n",
       "      <td>NaN</td>\n",
       "      <td>NaN</td>\n",
       "    </tr>\n",
       "    <tr>\n",
       "      <th>FAM231B</th>\n",
       "      <td>False</td>\n",
       "      <td>1.000000e-12</td>\n",
       "      <td>NaN</td>\n",
       "      <td>NaN</td>\n",
       "    </tr>\n",
       "  </tbody>\n",
       "</table>\n",
       "<p>33694 rows × 4 columns</p>\n",
       "</div>"
      ],
      "text/plain": [
       "              highly_variable         means  dispersions  dispersions_norm\n",
       "index                                                                     \n",
       "RP11-34P13.3            False  1.000000e-12          NaN               NaN\n",
       "FAM138A                 False  1.000000e-12          NaN               NaN\n",
       "OR4F5                   False  1.000000e-12          NaN               NaN\n",
       "RP11-34P13.7            False  4.336628e-03     1.440831          0.521987\n",
       "RP11-34P13.8            False  1.000000e-12          NaN               NaN\n",
       "...                       ...           ...          ...               ...\n",
       "AC233755.2              False  1.913299e-04     0.909056         -1.162769\n",
       "AC233755.1              False  1.261966e-03     1.266680         -0.029754\n",
       "AC240274.1              False  7.457980e-02     1.375593          0.315302\n",
       "AC213203.1              False  1.000000e-12          NaN               NaN\n",
       "FAM231B                 False  1.000000e-12          NaN               NaN\n",
       "\n",
       "[33694 rows x 4 columns]"
      ]
     },
     "execution_count": 11,
     "metadata": {},
     "output_type": "execute_result"
    }
   ],
   "source": [
    "t.var"
   ]
  },
  {
   "cell_type": "code",
   "execution_count": 12,
   "metadata": {},
   "outputs": [
    {
     "data": {
      "text/html": [
       "<div>\n",
       "<style scoped>\n",
       "    .dataframe tbody tr th:only-of-type {\n",
       "        vertical-align: middle;\n",
       "    }\n",
       "\n",
       "    .dataframe tbody tr th {\n",
       "        vertical-align: top;\n",
       "    }\n",
       "\n",
       "    .dataframe thead th {\n",
       "        text-align: right;\n",
       "    }\n",
       "</style>\n",
       "<table border=\"1\" class=\"dataframe\">\n",
       "  <thead>\n",
       "    <tr style=\"text-align: right;\">\n",
       "      <th>index</th>\n",
       "      <th>RP11-34P13.3</th>\n",
       "      <th>FAM138A</th>\n",
       "      <th>OR4F5</th>\n",
       "      <th>RP11-34P13.7</th>\n",
       "      <th>RP11-34P13.8</th>\n",
       "      <th>RP11-34P13.14</th>\n",
       "      <th>RP11-34P13.9</th>\n",
       "      <th>FO538757.3</th>\n",
       "      <th>FO538757.2</th>\n",
       "      <th>AP006222.2</th>\n",
       "      <th>...</th>\n",
       "      <th>AC007325.2</th>\n",
       "      <th>BX072566.1</th>\n",
       "      <th>AL354822.1</th>\n",
       "      <th>AC023491.2</th>\n",
       "      <th>AC004556.1</th>\n",
       "      <th>AC233755.2</th>\n",
       "      <th>AC233755.1</th>\n",
       "      <th>AC240274.1</th>\n",
       "      <th>AC213203.1</th>\n",
       "      <th>FAM231B</th>\n",
       "    </tr>\n",
       "  </thead>\n",
       "  <tbody>\n",
       "    <tr>\n",
       "      <th>highly_variable</th>\n",
       "      <td>False</td>\n",
       "      <td>False</td>\n",
       "      <td>False</td>\n",
       "      <td>False</td>\n",
       "      <td>False</td>\n",
       "      <td>False</td>\n",
       "      <td>False</td>\n",
       "      <td>False</td>\n",
       "      <td>False</td>\n",
       "      <td>False</td>\n",
       "      <td>...</td>\n",
       "      <td>False</td>\n",
       "      <td>False</td>\n",
       "      <td>False</td>\n",
       "      <td>False</td>\n",
       "      <td>True</td>\n",
       "      <td>False</td>\n",
       "      <td>False</td>\n",
       "      <td>False</td>\n",
       "      <td>False</td>\n",
       "      <td>False</td>\n",
       "    </tr>\n",
       "    <tr>\n",
       "      <th>means</th>\n",
       "      <td>1e-12</td>\n",
       "      <td>1e-12</td>\n",
       "      <td>1e-12</td>\n",
       "      <td>0.00433663</td>\n",
       "      <td>1e-12</td>\n",
       "      <td>1e-12</td>\n",
       "      <td>1e-12</td>\n",
       "      <td>0.000505906</td>\n",
       "      <td>0.473574</td>\n",
       "      <td>0.343604</td>\n",
       "      <td>...</td>\n",
       "      <td>0.03061</td>\n",
       "      <td>1e-12</td>\n",
       "      <td>0.0107444</td>\n",
       "      <td>1e-12</td>\n",
       "      <td>0.0394213</td>\n",
       "      <td>0.00019133</td>\n",
       "      <td>0.00126197</td>\n",
       "      <td>0.0745798</td>\n",
       "      <td>1e-12</td>\n",
       "      <td>1e-12</td>\n",
       "    </tr>\n",
       "    <tr>\n",
       "      <th>dispersions</th>\n",
       "      <td>NaN</td>\n",
       "      <td>NaN</td>\n",
       "      <td>NaN</td>\n",
       "      <td>1.44083</td>\n",
       "      <td>NaN</td>\n",
       "      <td>NaN</td>\n",
       "      <td>NaN</td>\n",
       "      <td>1.35848</td>\n",
       "      <td>1.29746</td>\n",
       "      <td>1.14623</td>\n",
       "      <td>...</td>\n",
       "      <td>1.09921</td>\n",
       "      <td>NaN</td>\n",
       "      <td>1.23467</td>\n",
       "      <td>NaN</td>\n",
       "      <td>1.46588</td>\n",
       "      <td>0.909056</td>\n",
       "      <td>1.26668</td>\n",
       "      <td>1.37559</td>\n",
       "      <td>NaN</td>\n",
       "      <td>NaN</td>\n",
       "    </tr>\n",
       "    <tr>\n",
       "      <th>dispersions_norm</th>\n",
       "      <td>NaN</td>\n",
       "      <td>NaN</td>\n",
       "      <td>NaN</td>\n",
       "      <td>0.521987</td>\n",
       "      <td>NaN</td>\n",
       "      <td>NaN</td>\n",
       "      <td>NaN</td>\n",
       "      <td>0.261073</td>\n",
       "      <td>0.353819</td>\n",
       "      <td>-0.707995</td>\n",
       "      <td>...</td>\n",
       "      <td>-0.560324</td>\n",
       "      <td>NaN</td>\n",
       "      <td>-0.13116</td>\n",
       "      <td>NaN</td>\n",
       "      <td>0.601342</td>\n",
       "      <td>-1.16277</td>\n",
       "      <td>-0.029754</td>\n",
       "      <td>0.315302</td>\n",
       "      <td>NaN</td>\n",
       "      <td>NaN</td>\n",
       "    </tr>\n",
       "  </tbody>\n",
       "</table>\n",
       "<p>4 rows × 33694 columns</p>\n",
       "</div>"
      ],
      "text/plain": [
       "index            RP11-34P13.3 FAM138A  OR4F5 RP11-34P13.7 RP11-34P13.8  \\\n",
       "highly_variable         False   False  False        False        False   \n",
       "means                   1e-12   1e-12  1e-12   0.00433663        1e-12   \n",
       "dispersions               NaN     NaN    NaN      1.44083          NaN   \n",
       "dispersions_norm          NaN     NaN    NaN     0.521987          NaN   \n",
       "\n",
       "index            RP11-34P13.14 RP11-34P13.9   FO538757.3 FO538757.2  \\\n",
       "highly_variable          False        False        False      False   \n",
       "means                    1e-12        1e-12  0.000505906   0.473574   \n",
       "dispersions                NaN          NaN      1.35848    1.29746   \n",
       "dispersions_norm           NaN          NaN     0.261073   0.353819   \n",
       "\n",
       "index            AP006222.2  ... AC007325.2 BX072566.1 AL354822.1 AC023491.2  \\\n",
       "highly_variable       False  ...      False      False      False      False   \n",
       "means              0.343604  ...    0.03061      1e-12  0.0107444      1e-12   \n",
       "dispersions         1.14623  ...    1.09921        NaN    1.23467        NaN   \n",
       "dispersions_norm  -0.707995  ...  -0.560324        NaN   -0.13116        NaN   \n",
       "\n",
       "index            AC004556.1  AC233755.2  AC233755.1 AC240274.1 AC213203.1  \\\n",
       "highly_variable        True       False       False      False      False   \n",
       "means             0.0394213  0.00019133  0.00126197  0.0745798      1e-12   \n",
       "dispersions         1.46588    0.909056     1.26668    1.37559        NaN   \n",
       "dispersions_norm   0.601342    -1.16277   -0.029754   0.315302        NaN   \n",
       "\n",
       "index            FAM231B  \n",
       "highly_variable    False  \n",
       "means              1e-12  \n",
       "dispersions          NaN  \n",
       "dispersions_norm     NaN  \n",
       "\n",
       "[4 rows x 33694 columns]"
      ]
     },
     "execution_count": 12,
     "metadata": {},
     "output_type": "execute_result"
    }
   ],
   "source": [
    "t.var.T"
   ]
  },
  {
   "cell_type": "code",
   "execution_count": 13,
   "metadata": {},
   "outputs": [
    {
     "data": {
      "text/plain": [
       "highly_variable       False\n",
       "means               0.35141\n",
       "dispersions         1.17911\n",
       "dispersions_norm   -0.50413\n",
       "Name: TMPRSS2, dtype: object"
      ]
     },
     "execution_count": 13,
     "metadata": {},
     "output_type": "execute_result"
    }
   ],
   "source": [
    "t.var.T['TMPRSS2']"
   ]
  },
  {
   "cell_type": "code",
   "execution_count": 14,
   "metadata": {},
   "outputs": [
    {
     "data": {
      "text/plain": [
       "33499"
      ]
     },
     "execution_count": 14,
     "metadata": {},
     "output_type": "execute_result"
    }
   ],
   "source": [
    "t.var.T.columns.get_loc('TMPRSS2')"
   ]
  },
  {
   "cell_type": "code",
   "execution_count": 15,
   "metadata": {},
   "outputs": [
    {
     "data": {
      "text/plain": [
       "<12971x33694 sparse matrix of type '<class 'numpy.float32'>'\n",
       "\twith 29602881 stored elements in Compressed Sparse Column format>"
      ]
     },
     "execution_count": 15,
     "metadata": {},
     "output_type": "execute_result"
    }
   ],
   "source": [
    "t.X"
   ]
  },
  {
   "cell_type": "code",
   "execution_count": 16,
   "metadata": {},
   "outputs": [],
   "source": [
    "gene_expression = t.X[:,33499]"
   ]
  },
  {
   "cell_type": "code",
   "execution_count": 17,
   "metadata": {},
   "outputs": [
    {
     "data": {
      "text/plain": [
       "<12971x1 sparse matrix of type '<class 'numpy.float32'>'\n",
       "\twith 1794 stored elements in Compressed Sparse Column format>"
      ]
     },
     "execution_count": 17,
     "metadata": {},
     "output_type": "execute_result"
    }
   ],
   "source": [
    "gene_expression"
   ]
  },
  {
   "cell_type": "code",
   "execution_count": 18,
   "metadata": {},
   "outputs": [
    {
     "data": {
      "text/plain": [
       "(array([    3,    17,    18, ..., 12913, 12927, 12945], dtype=int32),\n",
       " array([0, 0, 0, ..., 0, 0, 0], dtype=int32))"
      ]
     },
     "execution_count": 18,
     "metadata": {},
     "output_type": "execute_result"
    }
   ],
   "source": [
    "gene_expression.nonzero()"
   ]
  },
  {
   "cell_type": "code",
   "execution_count": 19,
   "metadata": {},
   "outputs": [],
   "source": [
    "a, b = gene_expression.nonzero()"
   ]
  },
  {
   "cell_type": "code",
   "execution_count": 20,
   "metadata": {},
   "outputs": [
    {
     "data": {
      "text/html": [
       "<div>\n",
       "<style scoped>\n",
       "    .dataframe tbody tr th:only-of-type {\n",
       "        vertical-align: middle;\n",
       "    }\n",
       "\n",
       "    .dataframe tbody tr th {\n",
       "        vertical-align: top;\n",
       "    }\n",
       "\n",
       "    .dataframe thead th {\n",
       "        text-align: right;\n",
       "    }\n",
       "</style>\n",
       "<table border=\"1\" class=\"dataframe\">\n",
       "  <thead>\n",
       "    <tr style=\"text-align: right;\">\n",
       "      <th></th>\n",
       "      <th>0</th>\n",
       "    </tr>\n",
       "  </thead>\n",
       "  <tbody>\n",
       "    <tr>\n",
       "      <th>0</th>\n",
       "      <td>(0, 0)\\t1.534591</td>\n",
       "    </tr>\n",
       "  </tbody>\n",
       "</table>\n",
       "</div>"
      ],
      "text/plain": [
       "                    0\n",
       "0    (0, 0)\\t1.534591"
      ]
     },
     "execution_count": 20,
     "metadata": {},
     "output_type": "execute_result"
    }
   ],
   "source": [
    "pd.DataFrame(gene_expression[3])"
   ]
  },
  {
   "cell_type": "code",
   "execution_count": 21,
   "metadata": {},
   "outputs": [
    {
     "data": {
      "text/html": [
       "<div>\n",
       "<style scoped>\n",
       "    .dataframe tbody tr th:only-of-type {\n",
       "        vertical-align: middle;\n",
       "    }\n",
       "\n",
       "    .dataframe tbody tr th {\n",
       "        vertical-align: top;\n",
       "    }\n",
       "\n",
       "    .dataframe thead th {\n",
       "        text-align: right;\n",
       "    }\n",
       "</style>\n",
       "<table border=\"1\" class=\"dataframe\">\n",
       "  <thead>\n",
       "    <tr style=\"text-align: right;\">\n",
       "      <th></th>\n",
       "      <th>0</th>\n",
       "    </tr>\n",
       "  </thead>\n",
       "  <tbody>\n",
       "    <tr>\n",
       "      <th>0</th>\n",
       "      <td>(0, 0)\\t3.069182</td>\n",
       "    </tr>\n",
       "  </tbody>\n",
       "</table>\n",
       "</div>"
      ],
      "text/plain": [
       "                    0\n",
       "0    (0, 0)\\t3.069182"
      ]
     },
     "execution_count": 21,
     "metadata": {},
     "output_type": "execute_result"
    }
   ],
   "source": [
    "pd.DataFrame(gene_expression[3]*2)"
   ]
  },
  {
   "cell_type": "code",
   "execution_count": 22,
   "metadata": {},
   "outputs": [
    {
     "data": {
      "text/plain": [
       "1794"
      ]
     },
     "execution_count": 22,
     "metadata": {},
     "output_type": "execute_result"
    }
   ],
   "source": [
    "len(a)"
   ]
  },
  {
   "cell_type": "code",
   "execution_count": 23,
   "metadata": {},
   "outputs": [
    {
     "data": {
      "text/html": [
       "<div>\n",
       "<style scoped>\n",
       "    .dataframe tbody tr th:only-of-type {\n",
       "        vertical-align: middle;\n",
       "    }\n",
       "\n",
       "    .dataframe tbody tr th {\n",
       "        vertical-align: top;\n",
       "    }\n",
       "\n",
       "    .dataframe thead th {\n",
       "        text-align: right;\n",
       "    }\n",
       "</style>\n",
       "<table border=\"1\" class=\"dataframe\">\n",
       "  <thead>\n",
       "    <tr style=\"text-align: right;\">\n",
       "      <th></th>\n",
       "      <th>SampleID</th>\n",
       "      <th>Age</th>\n",
       "      <th>Sex</th>\n",
       "      <th>Race</th>\n",
       "      <th>Ethnicity</th>\n",
       "      <th>BMI</th>\n",
       "      <th>HeartDisease</th>\n",
       "      <th>LungDisease</th>\n",
       "      <th>KidneyDisease</th>\n",
       "      <th>Diabetes</th>\n",
       "      <th>...</th>\n",
       "      <th>TypeOfSample</th>\n",
       "      <th>n_counts</th>\n",
       "      <th>n_genes</th>\n",
       "      <th>percent_hb</th>\n",
       "      <th>percent_mito</th>\n",
       "      <th>percent_ribo</th>\n",
       "      <th>percent_top50</th>\n",
       "      <th>Annotation</th>\n",
       "      <th>Institute</th>\n",
       "      <th>ObjectCreateDate</th>\n",
       "    </tr>\n",
       "    <tr>\n",
       "      <th>index</th>\n",
       "      <th></th>\n",
       "      <th></th>\n",
       "      <th></th>\n",
       "      <th></th>\n",
       "      <th></th>\n",
       "      <th></th>\n",
       "      <th></th>\n",
       "      <th></th>\n",
       "      <th></th>\n",
       "      <th></th>\n",
       "      <th></th>\n",
       "      <th></th>\n",
       "      <th></th>\n",
       "      <th></th>\n",
       "      <th></th>\n",
       "      <th></th>\n",
       "      <th></th>\n",
       "      <th></th>\n",
       "      <th></th>\n",
       "      <th></th>\n",
       "      <th></th>\n",
       "    </tr>\n",
       "  </thead>\n",
       "  <tbody>\n",
       "    <tr>\n",
       "      <th>AAACCTGAGATGCGAC-CV001_KM8853698</th>\n",
       "      <td>AP1-NB</td>\n",
       "      <td>50-60</td>\n",
       "      <td>M</td>\n",
       "      <td>Black</td>\n",
       "      <td>Not Hispanic or Latino</td>\n",
       "      <td>30.0-39.9 (obese)</td>\n",
       "      <td>No</td>\n",
       "      <td>No</td>\n",
       "      <td>No</td>\n",
       "      <td>No</td>\n",
       "      <td>...</td>\n",
       "      <td>Nasal brush</td>\n",
       "      <td>21189.0</td>\n",
       "      <td>4816</td>\n",
       "      <td>0.014158</td>\n",
       "      <td>1.873614</td>\n",
       "      <td>8.688471</td>\n",
       "      <td>31.322856</td>\n",
       "      <td>Secretory 1</td>\n",
       "      <td>UCL-SANGER</td>\n",
       "      <td>20200804</td>\n",
       "    </tr>\n",
       "    <tr>\n",
       "      <th>AAACCTGCAACACGCC-CV001_KM8853698</th>\n",
       "      <td>AP1-NB</td>\n",
       "      <td>50-60</td>\n",
       "      <td>M</td>\n",
       "      <td>Black</td>\n",
       "      <td>Not Hispanic or Latino</td>\n",
       "      <td>30.0-39.9 (obese)</td>\n",
       "      <td>No</td>\n",
       "      <td>No</td>\n",
       "      <td>No</td>\n",
       "      <td>No</td>\n",
       "      <td>...</td>\n",
       "      <td>Nasal brush</td>\n",
       "      <td>9462.0</td>\n",
       "      <td>3532</td>\n",
       "      <td>0.010569</td>\n",
       "      <td>1.754386</td>\n",
       "      <td>11.086452</td>\n",
       "      <td>23.451702</td>\n",
       "      <td>Secretory 1</td>\n",
       "      <td>UCL-SANGER</td>\n",
       "      <td>20200804</td>\n",
       "    </tr>\n",
       "    <tr>\n",
       "      <th>AAACCTGCACACGCTG-CV001_KM8853698</th>\n",
       "      <td>AP1-NB</td>\n",
       "      <td>50-60</td>\n",
       "      <td>M</td>\n",
       "      <td>Black</td>\n",
       "      <td>Not Hispanic or Latino</td>\n",
       "      <td>30.0-39.9 (obese)</td>\n",
       "      <td>No</td>\n",
       "      <td>No</td>\n",
       "      <td>No</td>\n",
       "      <td>No</td>\n",
       "      <td>...</td>\n",
       "      <td>Nasal brush</td>\n",
       "      <td>2595.0</td>\n",
       "      <td>1345</td>\n",
       "      <td>0.038536</td>\n",
       "      <td>3.121387</td>\n",
       "      <td>9.055877</td>\n",
       "      <td>29.980732</td>\n",
       "      <td>Secretory 1</td>\n",
       "      <td>UCL-SANGER</td>\n",
       "      <td>20200804</td>\n",
       "    </tr>\n",
       "    <tr>\n",
       "      <th>AAACCTGTCCTACAGA-CV001_KM8853698</th>\n",
       "      <td>AP1-NB</td>\n",
       "      <td>50-60</td>\n",
       "      <td>M</td>\n",
       "      <td>Black</td>\n",
       "      <td>Not Hispanic or Latino</td>\n",
       "      <td>30.0-39.9 (obese)</td>\n",
       "      <td>No</td>\n",
       "      <td>No</td>\n",
       "      <td>No</td>\n",
       "      <td>No</td>\n",
       "      <td>...</td>\n",
       "      <td>Nasal brush</td>\n",
       "      <td>5105.0</td>\n",
       "      <td>2192</td>\n",
       "      <td>0.039177</td>\n",
       "      <td>10.342801</td>\n",
       "      <td>0.705191</td>\n",
       "      <td>38.707150</td>\n",
       "      <td>Secretory 2</td>\n",
       "      <td>UCL-SANGER</td>\n",
       "      <td>20200804</td>\n",
       "    </tr>\n",
       "    <tr>\n",
       "      <th>AAACGGGAGTGAAGTT-CV001_KM8853698</th>\n",
       "      <td>AP1-NB</td>\n",
       "      <td>50-60</td>\n",
       "      <td>M</td>\n",
       "      <td>Black</td>\n",
       "      <td>Not Hispanic or Latino</td>\n",
       "      <td>30.0-39.9 (obese)</td>\n",
       "      <td>No</td>\n",
       "      <td>No</td>\n",
       "      <td>No</td>\n",
       "      <td>No</td>\n",
       "      <td>...</td>\n",
       "      <td>Nasal brush</td>\n",
       "      <td>1789.0</td>\n",
       "      <td>1055</td>\n",
       "      <td>0.055897</td>\n",
       "      <td>0.279486</td>\n",
       "      <td>5.869201</td>\n",
       "      <td>29.122415</td>\n",
       "      <td>Secretory 1</td>\n",
       "      <td>UCL-SANGER</td>\n",
       "      <td>20200804</td>\n",
       "    </tr>\n",
       "    <tr>\n",
       "      <th>...</th>\n",
       "      <td>...</td>\n",
       "      <td>...</td>\n",
       "      <td>...</td>\n",
       "      <td>...</td>\n",
       "      <td>...</td>\n",
       "      <td>...</td>\n",
       "      <td>...</td>\n",
       "      <td>...</td>\n",
       "      <td>...</td>\n",
       "      <td>...</td>\n",
       "      <td>...</td>\n",
       "      <td>...</td>\n",
       "      <td>...</td>\n",
       "      <td>...</td>\n",
       "      <td>...</td>\n",
       "      <td>...</td>\n",
       "      <td>...</td>\n",
       "      <td>...</td>\n",
       "      <td>...</td>\n",
       "      <td>...</td>\n",
       "      <td>...</td>\n",
       "    </tr>\n",
       "    <tr>\n",
       "      <th>TTTGTCACAGACAAGC-CV001_KM8854513</th>\n",
       "      <td>AP5-NB</td>\n",
       "      <td>50-60</td>\n",
       "      <td>F</td>\n",
       "      <td>Asian</td>\n",
       "      <td>Not Hispanic or Latino</td>\n",
       "      <td>Unknown</td>\n",
       "      <td>No</td>\n",
       "      <td>No</td>\n",
       "      <td>No</td>\n",
       "      <td>No</td>\n",
       "      <td>...</td>\n",
       "      <td>Nasal brush</td>\n",
       "      <td>3295.0</td>\n",
       "      <td>1868</td>\n",
       "      <td>0.000000</td>\n",
       "      <td>2.579666</td>\n",
       "      <td>7.162367</td>\n",
       "      <td>21.274659</td>\n",
       "      <td>Ciliated 1</td>\n",
       "      <td>UCL-SANGER</td>\n",
       "      <td>20200804</td>\n",
       "    </tr>\n",
       "    <tr>\n",
       "      <th>TTTGTCATCAGATAAG-CV001_KM8854513</th>\n",
       "      <td>AP5-NB</td>\n",
       "      <td>50-60</td>\n",
       "      <td>F</td>\n",
       "      <td>Asian</td>\n",
       "      <td>Not Hispanic or Latino</td>\n",
       "      <td>Unknown</td>\n",
       "      <td>No</td>\n",
       "      <td>No</td>\n",
       "      <td>No</td>\n",
       "      <td>No</td>\n",
       "      <td>...</td>\n",
       "      <td>Nasal brush</td>\n",
       "      <td>8014.0</td>\n",
       "      <td>2787</td>\n",
       "      <td>0.024956</td>\n",
       "      <td>1.734465</td>\n",
       "      <td>7.686549</td>\n",
       "      <td>31.707013</td>\n",
       "      <td>Secretory 3</td>\n",
       "      <td>UCL-SANGER</td>\n",
       "      <td>20200804</td>\n",
       "    </tr>\n",
       "    <tr>\n",
       "      <th>TTTGTCATCAGCTCTC-CV001_KM8854513</th>\n",
       "      <td>AP5-NB</td>\n",
       "      <td>50-60</td>\n",
       "      <td>F</td>\n",
       "      <td>Asian</td>\n",
       "      <td>Not Hispanic or Latino</td>\n",
       "      <td>Unknown</td>\n",
       "      <td>No</td>\n",
       "      <td>No</td>\n",
       "      <td>No</td>\n",
       "      <td>No</td>\n",
       "      <td>...</td>\n",
       "      <td>Nasal brush</td>\n",
       "      <td>6386.0</td>\n",
       "      <td>2812</td>\n",
       "      <td>0.015659</td>\n",
       "      <td>1.424992</td>\n",
       "      <td>6.921391</td>\n",
       "      <td>24.851237</td>\n",
       "      <td>Ciliated 1</td>\n",
       "      <td>UCL-SANGER</td>\n",
       "      <td>20200804</td>\n",
       "    </tr>\n",
       "    <tr>\n",
       "      <th>TTTGTCATCCCATTTA-CV001_KM8854513</th>\n",
       "      <td>AP5-NB</td>\n",
       "      <td>50-60</td>\n",
       "      <td>F</td>\n",
       "      <td>Asian</td>\n",
       "      <td>Not Hispanic or Latino</td>\n",
       "      <td>Unknown</td>\n",
       "      <td>No</td>\n",
       "      <td>No</td>\n",
       "      <td>No</td>\n",
       "      <td>No</td>\n",
       "      <td>...</td>\n",
       "      <td>Nasal brush</td>\n",
       "      <td>2216.0</td>\n",
       "      <td>1219</td>\n",
       "      <td>0.000000</td>\n",
       "      <td>1.850181</td>\n",
       "      <td>8.167871</td>\n",
       "      <td>28.971119</td>\n",
       "      <td>Secretory 1</td>\n",
       "      <td>UCL-SANGER</td>\n",
       "      <td>20200804</td>\n",
       "    </tr>\n",
       "    <tr>\n",
       "      <th>TTTGTCATCGGTGTCG-CV001_KM8854513</th>\n",
       "      <td>AP5-NB</td>\n",
       "      <td>50-60</td>\n",
       "      <td>F</td>\n",
       "      <td>Asian</td>\n",
       "      <td>Not Hispanic or Latino</td>\n",
       "      <td>Unknown</td>\n",
       "      <td>No</td>\n",
       "      <td>No</td>\n",
       "      <td>No</td>\n",
       "      <td>No</td>\n",
       "      <td>...</td>\n",
       "      <td>Nasal brush</td>\n",
       "      <td>978.0</td>\n",
       "      <td>731</td>\n",
       "      <td>0.000000</td>\n",
       "      <td>4.294478</td>\n",
       "      <td>6.850716</td>\n",
       "      <td>22.494888</td>\n",
       "      <td>Ciliated 1</td>\n",
       "      <td>UCL-SANGER</td>\n",
       "      <td>20200804</td>\n",
       "    </tr>\n",
       "  </tbody>\n",
       "</table>\n",
       "<p>10550 rows × 30 columns</p>\n",
       "</div>"
      ],
      "text/plain": [
       "                                 SampleID    Age Sex   Race  \\\n",
       "index                                                         \n",
       "AAACCTGAGATGCGAC-CV001_KM8853698   AP1-NB  50-60   M  Black   \n",
       "AAACCTGCAACACGCC-CV001_KM8853698   AP1-NB  50-60   M  Black   \n",
       "AAACCTGCACACGCTG-CV001_KM8853698   AP1-NB  50-60   M  Black   \n",
       "AAACCTGTCCTACAGA-CV001_KM8853698   AP1-NB  50-60   M  Black   \n",
       "AAACGGGAGTGAAGTT-CV001_KM8853698   AP1-NB  50-60   M  Black   \n",
       "...                                   ...    ...  ..    ...   \n",
       "TTTGTCACAGACAAGC-CV001_KM8854513   AP5-NB  50-60   F  Asian   \n",
       "TTTGTCATCAGATAAG-CV001_KM8854513   AP5-NB  50-60   F  Asian   \n",
       "TTTGTCATCAGCTCTC-CV001_KM8854513   AP5-NB  50-60   F  Asian   \n",
       "TTTGTCATCCCATTTA-CV001_KM8854513   AP5-NB  50-60   F  Asian   \n",
       "TTTGTCATCGGTGTCG-CV001_KM8854513   AP5-NB  50-60   F  Asian   \n",
       "\n",
       "                                               Ethnicity                BMI  \\\n",
       "index                                                                         \n",
       "AAACCTGAGATGCGAC-CV001_KM8853698  Not Hispanic or Latino  30.0-39.9 (obese)   \n",
       "AAACCTGCAACACGCC-CV001_KM8853698  Not Hispanic or Latino  30.0-39.9 (obese)   \n",
       "AAACCTGCACACGCTG-CV001_KM8853698  Not Hispanic or Latino  30.0-39.9 (obese)   \n",
       "AAACCTGTCCTACAGA-CV001_KM8853698  Not Hispanic or Latino  30.0-39.9 (obese)   \n",
       "AAACGGGAGTGAAGTT-CV001_KM8853698  Not Hispanic or Latino  30.0-39.9 (obese)   \n",
       "...                                                  ...                ...   \n",
       "TTTGTCACAGACAAGC-CV001_KM8854513  Not Hispanic or Latino            Unknown   \n",
       "TTTGTCATCAGATAAG-CV001_KM8854513  Not Hispanic or Latino            Unknown   \n",
       "TTTGTCATCAGCTCTC-CV001_KM8854513  Not Hispanic or Latino            Unknown   \n",
       "TTTGTCATCCCATTTA-CV001_KM8854513  Not Hispanic or Latino            Unknown   \n",
       "TTTGTCATCGGTGTCG-CV001_KM8854513  Not Hispanic or Latino            Unknown   \n",
       "\n",
       "                                 HeartDisease LungDisease KidneyDisease  \\\n",
       "index                                                                     \n",
       "AAACCTGAGATGCGAC-CV001_KM8853698           No          No            No   \n",
       "AAACCTGCAACACGCC-CV001_KM8853698           No          No            No   \n",
       "AAACCTGCACACGCTG-CV001_KM8853698           No          No            No   \n",
       "AAACCTGTCCTACAGA-CV001_KM8853698           No          No            No   \n",
       "AAACGGGAGTGAAGTT-CV001_KM8853698           No          No            No   \n",
       "...                                       ...         ...           ...   \n",
       "TTTGTCACAGACAAGC-CV001_KM8854513           No          No            No   \n",
       "TTTGTCATCAGATAAG-CV001_KM8854513           No          No            No   \n",
       "TTTGTCATCAGCTCTC-CV001_KM8854513           No          No            No   \n",
       "TTTGTCATCCCATTTA-CV001_KM8854513           No          No            No   \n",
       "TTTGTCATCGGTGTCG-CV001_KM8854513           No          No            No   \n",
       "\n",
       "                                 Diabetes  ... TypeOfSample n_counts n_genes  \\\n",
       "index                                      ...                                 \n",
       "AAACCTGAGATGCGAC-CV001_KM8853698       No  ...  Nasal brush  21189.0    4816   \n",
       "AAACCTGCAACACGCC-CV001_KM8853698       No  ...  Nasal brush   9462.0    3532   \n",
       "AAACCTGCACACGCTG-CV001_KM8853698       No  ...  Nasal brush   2595.0    1345   \n",
       "AAACCTGTCCTACAGA-CV001_KM8853698       No  ...  Nasal brush   5105.0    2192   \n",
       "AAACGGGAGTGAAGTT-CV001_KM8853698       No  ...  Nasal brush   1789.0    1055   \n",
       "...                                   ...  ...          ...      ...     ...   \n",
       "TTTGTCACAGACAAGC-CV001_KM8854513       No  ...  Nasal brush   3295.0    1868   \n",
       "TTTGTCATCAGATAAG-CV001_KM8854513       No  ...  Nasal brush   8014.0    2787   \n",
       "TTTGTCATCAGCTCTC-CV001_KM8854513       No  ...  Nasal brush   6386.0    2812   \n",
       "TTTGTCATCCCATTTA-CV001_KM8854513       No  ...  Nasal brush   2216.0    1219   \n",
       "TTTGTCATCGGTGTCG-CV001_KM8854513       No  ...  Nasal brush    978.0     731   \n",
       "\n",
       "                                 percent_hb percent_mito percent_ribo  \\\n",
       "index                                                                   \n",
       "AAACCTGAGATGCGAC-CV001_KM8853698   0.014158     1.873614     8.688471   \n",
       "AAACCTGCAACACGCC-CV001_KM8853698   0.010569     1.754386    11.086452   \n",
       "AAACCTGCACACGCTG-CV001_KM8853698   0.038536     3.121387     9.055877   \n",
       "AAACCTGTCCTACAGA-CV001_KM8853698   0.039177    10.342801     0.705191   \n",
       "AAACGGGAGTGAAGTT-CV001_KM8853698   0.055897     0.279486     5.869201   \n",
       "...                                     ...          ...          ...   \n",
       "TTTGTCACAGACAAGC-CV001_KM8854513   0.000000     2.579666     7.162367   \n",
       "TTTGTCATCAGATAAG-CV001_KM8854513   0.024956     1.734465     7.686549   \n",
       "TTTGTCATCAGCTCTC-CV001_KM8854513   0.015659     1.424992     6.921391   \n",
       "TTTGTCATCCCATTTA-CV001_KM8854513   0.000000     1.850181     8.167871   \n",
       "TTTGTCATCGGTGTCG-CV001_KM8854513   0.000000     4.294478     6.850716   \n",
       "\n",
       "                                 percent_top50   Annotation   Institute  \\\n",
       "index                                                                     \n",
       "AAACCTGAGATGCGAC-CV001_KM8853698     31.322856  Secretory 1  UCL-SANGER   \n",
       "AAACCTGCAACACGCC-CV001_KM8853698     23.451702  Secretory 1  UCL-SANGER   \n",
       "AAACCTGCACACGCTG-CV001_KM8853698     29.980732  Secretory 1  UCL-SANGER   \n",
       "AAACCTGTCCTACAGA-CV001_KM8853698     38.707150  Secretory 2  UCL-SANGER   \n",
       "AAACGGGAGTGAAGTT-CV001_KM8853698     29.122415  Secretory 1  UCL-SANGER   \n",
       "...                                        ...          ...         ...   \n",
       "TTTGTCACAGACAAGC-CV001_KM8854513     21.274659   Ciliated 1  UCL-SANGER   \n",
       "TTTGTCATCAGATAAG-CV001_KM8854513     31.707013  Secretory 3  UCL-SANGER   \n",
       "TTTGTCATCAGCTCTC-CV001_KM8854513     24.851237   Ciliated 1  UCL-SANGER   \n",
       "TTTGTCATCCCATTTA-CV001_KM8854513     28.971119  Secretory 1  UCL-SANGER   \n",
       "TTTGTCATCGGTGTCG-CV001_KM8854513     22.494888   Ciliated 1  UCL-SANGER   \n",
       "\n",
       "                                 ObjectCreateDate  \n",
       "index                                              \n",
       "AAACCTGAGATGCGAC-CV001_KM8853698         20200804  \n",
       "AAACCTGCAACACGCC-CV001_KM8853698         20200804  \n",
       "AAACCTGCACACGCTG-CV001_KM8853698         20200804  \n",
       "AAACCTGTCCTACAGA-CV001_KM8853698         20200804  \n",
       "AAACGGGAGTGAAGTT-CV001_KM8853698         20200804  \n",
       "...                                           ...  \n",
       "TTTGTCACAGACAAGC-CV001_KM8854513         20200804  \n",
       "TTTGTCATCAGATAAG-CV001_KM8854513         20200804  \n",
       "TTTGTCATCAGCTCTC-CV001_KM8854513         20200804  \n",
       "TTTGTCATCCCATTTA-CV001_KM8854513         20200804  \n",
       "TTTGTCATCGGTGTCG-CV001_KM8854513         20200804  \n",
       "\n",
       "[10550 rows x 30 columns]"
      ]
     },
     "execution_count": 23,
     "metadata": {},
     "output_type": "execute_result"
    }
   ],
   "source": [
    "u.obs"
   ]
  },
  {
   "cell_type": "code",
   "execution_count": 24,
   "metadata": {},
   "outputs": [
    {
     "data": {
      "text/plain": [
       "Index(['gene_ids'], dtype='object')"
      ]
     },
     "execution_count": 24,
     "metadata": {},
     "output_type": "execute_result"
    }
   ],
   "source": [
    "u2.var.columns"
   ]
  },
  {
   "cell_type": "code",
   "execution_count": 25,
   "metadata": {},
   "outputs": [
    {
     "data": {
      "text/html": [
       "<div>\n",
       "<style scoped>\n",
       "    .dataframe tbody tr th:only-of-type {\n",
       "        vertical-align: middle;\n",
       "    }\n",
       "\n",
       "    .dataframe tbody tr th {\n",
       "        vertical-align: top;\n",
       "    }\n",
       "\n",
       "    .dataframe thead th {\n",
       "        text-align: right;\n",
       "    }\n",
       "</style>\n",
       "<table border=\"1\" class=\"dataframe\">\n",
       "  <thead>\n",
       "    <tr style=\"text-align: right;\">\n",
       "      <th></th>\n",
       "      <th>gene_ids</th>\n",
       "    </tr>\n",
       "    <tr>\n",
       "      <th>var_names</th>\n",
       "      <th></th>\n",
       "    </tr>\n",
       "  </thead>\n",
       "  <tbody>\n",
       "    <tr>\n",
       "      <th>MIR1302-2HG</th>\n",
       "      <td>ENSG00000243485</td>\n",
       "    </tr>\n",
       "    <tr>\n",
       "      <th>AL627309.1</th>\n",
       "      <td>ENSG00000238009</td>\n",
       "    </tr>\n",
       "    <tr>\n",
       "      <th>AL627309.3</th>\n",
       "      <td>ENSG00000239945</td>\n",
       "    </tr>\n",
       "    <tr>\n",
       "      <th>AL669831.2</th>\n",
       "      <td>ENSG00000229905</td>\n",
       "    </tr>\n",
       "    <tr>\n",
       "      <th>AL669831.5</th>\n",
       "      <td>ENSG00000237491</td>\n",
       "    </tr>\n",
       "    <tr>\n",
       "      <th>...</th>\n",
       "      <td>...</td>\n",
       "    </tr>\n",
       "    <tr>\n",
       "      <th>AL354822.1</th>\n",
       "      <td>ENSG00000278384</td>\n",
       "    </tr>\n",
       "    <tr>\n",
       "      <th>AC004556.1</th>\n",
       "      <td>ENSG00000276345</td>\n",
       "    </tr>\n",
       "    <tr>\n",
       "      <th>AC233755.2</th>\n",
       "      <td>ENSG00000277856</td>\n",
       "    </tr>\n",
       "    <tr>\n",
       "      <th>AC233755.1</th>\n",
       "      <td>ENSG00000275063</td>\n",
       "    </tr>\n",
       "    <tr>\n",
       "      <th>AC240274.1</th>\n",
       "      <td>ENSG00000271254</td>\n",
       "    </tr>\n",
       "  </tbody>\n",
       "</table>\n",
       "<p>24179 rows × 1 columns</p>\n",
       "</div>"
      ],
      "text/plain": [
       "                    gene_ids\n",
       "var_names                   \n",
       "MIR1302-2HG  ENSG00000243485\n",
       "AL627309.1   ENSG00000238009\n",
       "AL627309.3   ENSG00000239945\n",
       "AL669831.2   ENSG00000229905\n",
       "AL669831.5   ENSG00000237491\n",
       "...                      ...\n",
       "AL354822.1   ENSG00000278384\n",
       "AC004556.1   ENSG00000276345\n",
       "AC233755.2   ENSG00000277856\n",
       "AC233755.1   ENSG00000275063\n",
       "AC240274.1   ENSG00000271254\n",
       "\n",
       "[24179 rows x 1 columns]"
      ]
     },
     "execution_count": 25,
     "metadata": {},
     "output_type": "execute_result"
    }
   ],
   "source": [
    "u2.var"
   ]
  },
  {
   "cell_type": "code",
   "execution_count": 26,
   "metadata": {},
   "outputs": [
    {
     "data": {
      "text/html": [
       "<div>\n",
       "<style scoped>\n",
       "    .dataframe tbody tr th:only-of-type {\n",
       "        vertical-align: middle;\n",
       "    }\n",
       "\n",
       "    .dataframe tbody tr th {\n",
       "        vertical-align: top;\n",
       "    }\n",
       "\n",
       "    .dataframe thead th {\n",
       "        text-align: right;\n",
       "    }\n",
       "</style>\n",
       "<table border=\"1\" class=\"dataframe\">\n",
       "  <thead>\n",
       "    <tr style=\"text-align: right;\">\n",
       "      <th></th>\n",
       "      <th>gene_ids</th>\n",
       "    </tr>\n",
       "    <tr>\n",
       "      <th>var_names</th>\n",
       "      <th></th>\n",
       "    </tr>\n",
       "  </thead>\n",
       "  <tbody>\n",
       "    <tr>\n",
       "      <th>AL627309.1</th>\n",
       "      <td>ENSG00000238009</td>\n",
       "    </tr>\n",
       "  </tbody>\n",
       "</table>\n",
       "</div>"
      ],
      "text/plain": [
       "                   gene_ids\n",
       "var_names                  \n",
       "AL627309.1  ENSG00000238009"
      ]
     },
     "execution_count": 26,
     "metadata": {},
     "output_type": "execute_result"
    }
   ],
   "source": [
    "u2.var.T.columns.get_loc('AL627309.1')\n",
    "u2.var[u2.var['gene_ids'] == 'ENSG00000238009']"
   ]
  },
  {
   "cell_type": "code",
   "execution_count": 27,
   "metadata": {},
   "outputs": [],
   "source": [
    "cols = [col for col in u2.var.T.columns if 'TMPRSS2' in col]"
   ]
  },
  {
   "cell_type": "code",
   "execution_count": 28,
   "metadata": {},
   "outputs": [
    {
     "data": {
      "text/plain": [
       "[]"
      ]
     },
     "execution_count": 28,
     "metadata": {},
     "output_type": "execute_result"
    }
   ],
   "source": [
    "cols"
   ]
  },
  {
   "cell_type": "code",
   "execution_count": 29,
   "metadata": {},
   "outputs": [],
   "source": [
    "tmprss2 = 'ENSG00000184012'"
   ]
  },
  {
   "cell_type": "code",
   "execution_count": 30,
   "metadata": {},
   "outputs": [
    {
     "data": {
      "text/html": [
       "<div>\n",
       "<style scoped>\n",
       "    .dataframe tbody tr th:only-of-type {\n",
       "        vertical-align: middle;\n",
       "    }\n",
       "\n",
       "    .dataframe tbody tr th {\n",
       "        vertical-align: top;\n",
       "    }\n",
       "\n",
       "    .dataframe thead th {\n",
       "        text-align: right;\n",
       "    }\n",
       "</style>\n",
       "<table border=\"1\" class=\"dataframe\">\n",
       "  <thead>\n",
       "    <tr style=\"text-align: right;\">\n",
       "      <th></th>\n",
       "      <th>gene_ids</th>\n",
       "    </tr>\n",
       "    <tr>\n",
       "      <th>var_names</th>\n",
       "      <th></th>\n",
       "    </tr>\n",
       "  </thead>\n",
       "  <tbody>\n",
       "  </tbody>\n",
       "</table>\n",
       "</div>"
      ],
      "text/plain": [
       "Empty DataFrame\n",
       "Columns: [gene_ids]\n",
       "Index: []"
      ]
     },
     "execution_count": 30,
     "metadata": {},
     "output_type": "execute_result"
    }
   ],
   "source": [
    "u2.var[u2.var['gene_ids'] == tmprss2]"
   ]
  },
  {
   "cell_type": "code",
   "execution_count": 36,
   "metadata": {},
   "outputs": [
    {
     "data": {
      "text/plain": [
       "33694"
      ]
     },
     "execution_count": 36,
     "metadata": {},
     "output_type": "execute_result"
    }
   ],
   "source": [
    "ts = t.var.T.columns\n",
    "len(ts)"
   ]
  },
  {
   "cell_type": "code",
   "execution_count": 37,
   "metadata": {},
   "outputs": [
    {
     "data": {
      "text/plain": [
       "33421"
      ]
     },
     "execution_count": 37,
     "metadata": {},
     "output_type": "execute_result"
    }
   ],
   "source": [
    "us = u.var.T.columns\n",
    "len(us)"
   ]
  },
  {
   "cell_type": "code",
   "execution_count": 40,
   "metadata": {},
   "outputs": [
    {
     "data": {
      "text/plain": [
       "22045"
      ]
     },
     "execution_count": 40,
     "metadata": {},
     "output_type": "execute_result"
    }
   ],
   "source": [
    "tus = ts.intersection(us)\n",
    "len(tus)"
   ]
  },
  {
   "cell_type": "code",
   "execution_count": null,
   "metadata": {},
   "outputs": [],
   "source": []
  }
 ],
 "metadata": {
  "kernelspec": {
   "display_name": "Python 3",
   "language": "python",
   "name": "python3"
  },
  "language_info": {
   "codemirror_mode": {
    "name": "ipython",
    "version": 3
   },
   "file_extension": ".py",
   "mimetype": "text/x-python",
   "name": "python",
   "nbconvert_exporter": "python",
   "pygments_lexer": "ipython3",
   "version": "3.7.7"
  }
 },
 "nbformat": 4,
 "nbformat_minor": 4
}
