{
 "cells": [
  {
   "cell_type": "markdown",
   "metadata": {},
   "source": [
    "# Expected Disablement for Bronchitis and Dyspnea in the simplified Asia model\n",
    "\n",
    "## The observable symptoms $S$\n",
    "\n",
    "$$S = \\left\\{ Dys = T,  Xray = F\\right\\} $$\n",
    "\n",
    "## The set of of active symptoms\n",
    "\n",
    "$$S_+ = \\left\\{Dys\\right\\} $$\n",
    "\n",
    "\n",
    "## The counterfactual  symptoms $S'$:\n",
    "$$\\begin{array}\n",
    "{S'}_{FF}  = & \\left\\{ Dys' = F, Xray'= F\\right\\} \\\\\n",
    "{S'}_{TF}  = & \\left\\{ Dys' = T, Xray' = F\\right\\} \\\\\n",
    "{S'}_{FT}  = & \\left\\{ Dys' = F, Xray' = T\\right\\} \\\\\n",
    "{S'}_{TT}  = & \\left\\{ Dys' = T, Xray' = T\\right\\} \\\\\n",
    "\\end{array}$$\n",
    "\n",
    "## The set of counterfactual active symptoms\n",
    "$$\\begin{array}\n",
    "{S'}_{+FF}  = & \\{\\} \\\\  \n",
    "{S'}_{+TF}  = &  \\{Dys\\} \\\\\n",
    "{S'}_{+FT}  = & \\{Xray\\} \\\\\n",
    "{S'}_{+TT}  = & \\{Dys, Xray\\} \\\\\n",
    "\\end{array}\n",
    "$$\n",
    "\n",
    "## The expected disablement of $D =$ Bronchitis and $S =$ Dyspnea\n",
    "\n",
    "$$\n",
    "\\begin{array}\n",
    "\\mathbb{E}(D,\\mathscr{E})  =\\ & \\sum_{S'}|S_+\\backslash {S'}_+|P\\left(S' | do(Bronchitis=F),\\mathscr{E}\\right) \\\\\n",
    "=\\ & |\\{Dys\\} - \\{\\}| & \\cdot & P\\left( {Dys'=F, Xray'=F}  | do(Bronchitis = F), {Dys=T, Xray=F}\\right) \\\\\n",
    " & +\\  |\\{Dys\\} - \\{Dys\\}| & \\cdot & P\\left( {Dys'=T, Xray'=F}| do(Bronchitis = F), {Dys=T, Xray=F}\\right)  \\\\\n",
    " & +\\ |\\{Dys\\} - \\{Xray\\}|& \\cdot & P\\left( {Dys'=F, Xray'=T}  | do(Bronchitis = F), {Dys=T, Xray=F}\\right) \\\\\n",
    " & +\\  |\\{Dys\\} - \\{Dys,Xray\\}| & \\cdot & P\\left( {Dys'=T, Xray'=T}  | do(Bronchitis = F), {Dys=T, Xray=F}\\right)  \\\\\n",
    " =\\  & 1 & \\cdot & P\\left( {Dys'=F, Xray'=F}  | do(Bronchitis = F), {Dys=T, Xray=F}\\right) \\\\\n",
    " & +\\    0 & \\cdot & P\\left( {Dys'=T, Xray'=F}|do(Bronchitis = F), {Dys=T, Xray=F}\\right)  \\\\\n",
    " & +\\  1 &\\cdot&  P\\left( {Dys'=F, Xray'=T}  | do(Bronchitis = F), {Dys=T, Xray=F}\\right) \\\\\n",
    " & +\\  0 & \\cdot & P\\left( {Dys'=T, Xray'=T}  | do(Bronchitis = F), {Dys=T, Xray=F}\\right) \\\\\n",
    " =\\ &  & & P\\left( {Dys'=F, Xray'=F}  | do(Bronchitis = F), {Dys=T, Xray=F}\\right) \\\\\n",
    " & +\\ & &  P\\left( {Dys'=F, Xray'=T}  | do(Bronchitis = F), {Dys=T, Xray=F}\\right) \\\\\n",
    "\\end{array}$$"
   ]
  },
  {
   "cell_type": "code",
   "execution_count": null,
   "metadata": {},
   "outputs": [],
   "source": [
    "S"
   ]
  }
 ],
 "metadata": {
  "kernelspec": {
   "display_name": "Python 3",
   "language": "python",
   "name": "python3"
  },
  "language_info": {
   "codemirror_mode": {
    "name": "ipython",
    "version": 3
   },
   "file_extension": ".py",
   "mimetype": "text/x-python",
   "name": "python",
   "nbconvert_exporter": "python",
   "pygments_lexer": "ipython3",
   "version": "3.7.4"
  },
  "latex_envs": {
   "LaTeX_envs_menu_present": true,
   "autoclose": false,
   "autocomplete": true,
   "bibliofile": "biblio.bib",
   "cite_by": "apalike",
   "current_citInitial": 1,
   "eqLabelWithNumbers": true,
   "eqNumInitial": 1,
   "hotkeys": {
    "equation": "Ctrl-E",
    "itemize": "Ctrl-I"
   },
   "labels_anchors": false,
   "latex_user_defs": false,
   "report_style_numbering": false,
   "user_envs_cfg": false
  },
  "toc": {
   "base_numbering": 1,
   "nav_menu": {},
   "number_sections": true,
   "sideBar": true,
   "skip_h1_title": false,
   "title_cell": "Table of Contents",
   "title_sidebar": "Contents",
   "toc_cell": false,
   "toc_position": {},
   "toc_section_display": true,
   "toc_window_display": true
  }
 },
 "nbformat": 4,
 "nbformat_minor": 4
}
