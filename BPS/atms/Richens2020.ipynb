{
 "cells": [
  {
   "cell_type": "markdown",
   "metadata": {},
   "source": [
    "# Expected Disablement for simplified Asia model\n",
    "$$ S = \\left\\{ Dys = T,  Xray = F\\right\\}$$\n",
    "$$ \\begin{eqnarray}\n",
    "{S'}_{FF} & = & \\left\\{ Dys = F, Xray= F\\right\\} \\\\\n",
    "{S'}_{TF} & = & \\left\\{ Dys = T, Xray = F\\right\\} \\\\\n",
    "{S'}_{FT} & = & \\left\\{ Dys = F, Xray = T\\right\\} \\\\\n",
    "{S'}_{TT} & = & \\left\\{ Dys = T, Xray = T\\right\\} \\\\\n",
    "S_+ & = & \\left\\{Dys\\right\\} \\\\\n",
    "{S'}_{+FF} & = & \\{\\} \\\\  \n",
    "{S'}_{+TF} & = &  \\{Dys\\} \\\\\n",
    "{S'}_{+FT} & = & \\{Xray\\} \\\\\n",
    "{S'}_{+TT} & = & \\{Dys, Xray\\} \\\\\n",
    "\\end{eqnarray}\n",
    "$$\n",
    "\n",
    "\n",
    "$$\n",
    "\\begin{eqnarray}\n",
    "\\mathbb{E}(D,\\mathscr{E}) & = & |\\{Dys\\} - \\{\\}|P( {Dys'=F, Xray'=F}  | do(Bronchitis = F), {Dys=T, Xray=F}) \\\\\n",
    "& & +  |\\{Dys\\} - \\{Dys\\}|P( {Dys'=T, Xray'=F}(do(Bronchitis = F), {Dys=T, Xray=F})  \\\\\n",
    "& & +|\\{Dys\\} - \\{Xray\\}|P( {Dys'=F, Xray'=T}  | do(Bronchitis = F), {Dys=T, Xray=F}) \\\\\n",
    "& & + |\\{Dys\\} - \\{Dys,Xray\\}|P( {Dys'=T, Xray'=T}  | do(Bronchitis = F), {Dys=T, Xray=F})  \\\\\n",
    "& = & 1\\cdot P( {Dys'=F, Xray'=F}  | do(Bronchitis = F), {Dys=T, Xray=F}) \\\\\n",
    "& & +   0\\cdot P( {Dys'=T, Xray'=F}(do(Bronchitis = F), {Dys=T, Xray=F})  \\\\\n",
    "& & +  1\\cdot P( {Dys'=F, Xray'=T}  | do(Bronchitis = F), {Dys=T, Xray=F}) \\\\\n",
    "& & +  0 \\cdot P( {Dys'=T, Xray'=T}  | do(Bronchitis = F), {Dys=T, Xray=F}) \\\\\n",
    "& = &  P( {Dys'=F, Xray'=F}  | do(Bronchitis = F), {Dys=T, Xray=F}) \\\\\n",
    "& & +  P( {Dys'=F, Xray'=T}  | do(Bronchitis = F), {Dys=T, Xray=F}) \\\\\n",
    "\\end{eqnarray}$$"
   ]
  }
 ],
 "metadata": {
  "kernelspec": {
   "display_name": "Python 3",
   "language": "python",
   "name": "python3"
  },
  "language_info": {
   "codemirror_mode": {
    "name": "ipython",
    "version": 3
   },
   "file_extension": ".py",
   "mimetype": "text/x-python",
   "name": "python",
   "nbconvert_exporter": "python",
   "pygments_lexer": "ipython3",
   "version": "3.7.4"
  }
 },
 "nbformat": 4,
 "nbformat_minor": 4
}
