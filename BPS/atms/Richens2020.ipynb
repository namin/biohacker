{
 "cells": [
  {
   "cell_type": "markdown",
   "metadata": {},
   "source": [
    "# Expected Disablement for Bronchitis and Dyspnea in the simplified Asia model\n",
    "\n",
    "## The observable symptoms $S$\n",
    "\n",
    "$$S = \\left\\{ Dys = T,  Xray = F\\right\\} $$\n",
    "\n",
    "## The set of of active symptoms\n",
    "\n",
    "$$S_+ = \\left\\{Dys\\right\\} $$\n",
    "\n",
    "\n",
    "## The counterfactual  symptoms $S'$:\n",
    "$$ \\begin{eqnarray}\n",
    "{S'}_{FF} & = & \\left\\{ Dys' = F, Xray'= F\\right\\} \\\\\n",
    "{S'}_{TF} & = & \\left\\{ Dys' = T, Xray' = F\\right\\} \\\\\n",
    "{S'}_{FT} & = & \\left\\{ Dys' = F, Xray' = T\\right\\} \\\\\n",
    "{S'}_{TT} & = & \\left\\{ Dys' = T, Xray' = T\\right\\} \\\\\n",
    "\\end{eqnarray}$$\n",
    "\n",
    "## The set of counterfactual active symptoms\n",
    "$$\\begin{eqnarray}\n",
    "{S'}_{+FF} & = & \\{\\} \\\\  \n",
    "{S'}_{+TF} & = &  \\{Dys\\} \\\\\n",
    "{S'}_{+FT} & = & \\{Xray\\} \\\\\n",
    "{S'}_{+TT} & = & \\{Dys, Xray\\} \\\\\n",
    "\\end{eqnarray}\n",
    "$$\n",
    "\n",
    "## The expected disablement of $D =$ Bronchitis and $S =$ Dyspnea\n",
    "\n",
    "$$\n",
    "\\begin{align}\n",
    "\\mathbb{E}(D,\\mathscr{E})  =\\ & \\sum_{S'}|S_+\\backslash {S'}_+|P\\left(S' | do(Bronchitis=F),\\mathscr{E}\\right) \\\\\n",
    "=\\ & |\\{Dys\\} - \\{\\}| & \\cdot & P\\left( {Dys'=F, Xray'=F}  | do(Bronchitis = F), {Dys=T, Xray=F}\\right) \\\\\n",
    " & +\\  |\\{Dys\\} - \\{Dys\\}| & \\cdot & P\\left( {Dys'=T, Xray'=F}| do(Bronchitis = F), {Dys=T, Xray=F}\\right)  \\\\\n",
    " & +\\ |\\{Dys\\} - \\{Xray\\}|& \\cdot & P\\left( {Dys'=F, Xray'=T}  | do(Bronchitis = F), {Dys=T, Xray=F}\\right) \\\\\n",
    " & +\\  |\\{Dys\\} - \\{Dys,Xray\\}| & \\cdot & P\\left( {Dys'=T, Xray'=T}  | do(Bronchitis = F), {Dys=T, Xray=F}\\right)  \\\\\n",
    " =\\  & 1 & \\cdot & P\\left( {Dys'=F, Xray'=F}  | do(Bronchitis = F), {Dys=T, Xray=F}\\right) \\\\\n",
    " & +\\    0 & \\cdot & P\\left( {Dys'=T, Xray'=F}|do(Bronchitis = F), {Dys=T, Xray=F}\\right)  \\\\\n",
    " & +\\  1 &\\cdot&  P\\left( {Dys'=F, Xray'=T}  | do(Bronchitis = F), {Dys=T, Xray=F}\\right) \\\\\n",
    " & +\\  0 & \\cdot & P\\left( {Dys'=T, Xray'=T}  | do(Bronchitis = F), {Dys=T, Xray=F}\\right) \\\\\n",
    " =\\ &  & & P\\left( {Dys'=F, Xray'=F}  | do(Bronchitis = F), {Dys=T, Xray=F}\\right) \\\\\n",
    " & +\\ & &  P\\left( {Dys'=F, Xray'=T}  | do(Bronchitis = F), {Dys=T, Xray=F}\\right) \\\\\n",
    "\\end{align}$$"
   ]
  },
  {
   "cell_type": "code",
   "execution_count": null,
   "metadata": {},
   "outputs": [],
   "source": [
    "S"
   ]
  }
 ],
 "metadata": {
  "kernelspec": {
   "display_name": "Python 3",
   "language": "python",
   "name": "python3"
  },
  "language_info": {
   "codemirror_mode": {
    "name": "ipython",
    "version": 3
   },
   "file_extension": ".py",
   "mimetype": "text/x-python",
   "name": "python",
   "nbconvert_exporter": "python",
   "pygments_lexer": "ipython3",
   "version": "3.7.4"
  }
 },
 "nbformat": 4,
 "nbformat_minor": 4
}
